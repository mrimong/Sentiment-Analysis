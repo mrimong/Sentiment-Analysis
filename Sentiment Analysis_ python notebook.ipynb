{
 "cells": [
  {
   "cell_type": "markdown",
   "metadata": {
    "id": "xiH1s_M67mCM"
   },
   "source": [
    "# **Sentiment Analysis** \n"
   ]
  },
  {
   "cell_type": "markdown",
   "metadata": {
    "id": "M3OWncgKa3ZA"
   },
   "source": [
    "### **EDA - Data Cleaning**"
   ]
  },
  {
   "cell_type": "code",
   "execution_count": null,
   "metadata": {
    "id": "z9NGtRETOOBN"
   },
   "outputs": [],
   "source": [
    "import json\n",
    "import pandas as pd"
   ]
  },
  {
   "cell_type": "code",
   "execution_count": null,
   "metadata": {
    "id": "zaVfgV-qO8Y1"
   },
   "outputs": [],
   "source": [
    "data = []\n",
    "errors = [] # because some lines are not properly formatted"
   ]
  },
  {
   "cell_type": "code",
   "execution_count": null,
   "metadata": {
    "id": "hxWK_5a-OUjl"
   },
   "outputs": [],
   "source": [
    "with open('Health_and_Personal_Care_5.json', 'r') as file:\n",
    "    for line_number, line in enumerate(file, 1):\n",
    "        try:\n",
    "            json_object = json.loads(line) # in this file, each line is an object\n",
    "            data.append(json_object)\n",
    "        except json.JSONDecodeError as e:\n",
    "            errors.append((line_number, str(e)))"
   ]
  },
  {
   "cell_type": "code",
   "execution_count": null,
   "metadata": {
    "colab": {
     "base_uri": "https://localhost:8080/"
    },
    "executionInfo": {
     "elapsed": 2,
     "status": "ok",
     "timestamp": 1716580915357,
     "user": {
      "displayName": "Mrimon (Nemo) Guha",
      "userId": "17002090688478565716"
     },
     "user_tz": 420
    },
    "id": "qnswgfRTPv3C",
    "outputId": "f09c0fe2-bfc6-4a5c-e132-35b9d1a97752"
   },
   "outputs": [
    {
     "name": "stdout",
     "output_type": "stream",
     "text": [
      "Encountered errors on lines: [(25945, 'Unterminated string starting at: line 1 column 333 (char 332)')]\n"
     ]
    }
   ],
   "source": [
    "print(\"Encountered errors on lines:\", errors)"
   ]
  },
  {
   "cell_type": "code",
   "execution_count": null,
   "metadata": {
    "colab": {
     "base_uri": "https://localhost:8080/"
    },
    "executionInfo": {
     "elapsed": 196,
     "status": "ok",
     "timestamp": 1716580916256,
     "user": {
      "displayName": "Mrimon (Nemo) Guha",
      "userId": "17002090688478565716"
     },
     "user_tz": 420
    },
    "id": "lO4LirsZPDPB",
    "outputId": "3c8cf834-5d95-4d03-f7ed-a6b3fcde719e"
   },
   "outputs": [
    {
     "name": "stdout",
     "output_type": "stream",
     "text": [
      "<class 'pandas.core.frame.DataFrame'>\n",
      "RangeIndex: 25944 entries, 0 to 25943\n",
      "Data columns (total 9 columns):\n",
      " #   Column          Non-Null Count  Dtype  \n",
      "---  ------          --------------  -----  \n",
      " 0   reviewerID      25944 non-null  object \n",
      " 1   asin            25944 non-null  object \n",
      " 2   reviewerName    25774 non-null  object \n",
      " 3   helpful         25944 non-null  object \n",
      " 4   reviewText      25944 non-null  object \n",
      " 5   overall         25944 non-null  float64\n",
      " 6   summary         25944 non-null  object \n",
      " 7   unixReviewTime  25944 non-null  int64  \n",
      " 8   reviewTime      25944 non-null  object \n",
      "dtypes: float64(1), int64(1), object(7)\n",
      "memory usage: 1.8+ MB\n"
     ]
    }
   ],
   "source": [
    "df = pd.DataFrame(data)\n",
    "df.head(5)\n",
    "df.info()"
   ]
  },
  {
   "cell_type": "code",
   "execution_count": null,
   "metadata": {
    "colab": {
     "base_uri": "https://localhost:8080/"
    },
    "executionInfo": {
     "elapsed": 149,
     "status": "ok",
     "timestamp": 1716580918321,
     "user": {
      "displayName": "Mrimon (Nemo) Guha",
      "userId": "17002090688478565716"
     },
     "user_tz": 420
    },
    "id": "IoSfOOWLP3l3",
    "outputId": "aa89f698-2d20-4371-f2e9-e5078f1d49b5"
   },
   "outputs": [
    {
     "data": {
      "text/plain": [
       "25944"
      ]
     },
     "execution_count": 7,
     "metadata": {},
     "output_type": "execute_result"
    }
   ],
   "source": [
    "# row number\n",
    "df.shape[0]"
   ]
  },
  {
   "cell_type": "markdown",
   "metadata": {
    "id": "DZVScTr9a3ZN"
   },
   "source": [
    "#### We create a new column called \"label\" that determines the positive sentiment, which is based on overall rating of 4 or higher. Anything lower is 0 i.e. negative sentiment"
   ]
  },
  {
   "cell_type": "code",
   "execution_count": null,
   "metadata": {
    "colab": {
     "base_uri": "https://localhost:8080/",
     "height": 293
    },
    "executionInfo": {
     "elapsed": 931,
     "status": "ok",
     "timestamp": 1716581049050,
     "user": {
      "displayName": "Mrimon (Nemo) Guha",
      "userId": "17002090688478565716"
     },
     "user_tz": 420
    },
    "id": "jsZe-8m6a3ZN",
    "outputId": "339f1206-a173-4bb5-be9e-6283886d4a61"
   },
   "outputs": [
    {
     "data": {
      "application/vnd.google.colaboratory.intrinsic+json": {
       "summary": "{\n  \"name\": \"df\",\n  \"rows\": 25944,\n  \"fields\": [\n    {\n      \"column\": \"reviewerID\",\n      \"properties\": {\n        \"dtype\": \"string\",\n        \"num_unique_values\": 16982,\n        \"samples\": [\n          \"A3CZNNTEY657TE\",\n          \"AF5AJ5V9T6LTS\",\n          \"A1JZ6ZXWWLFAD4\"\n        ],\n        \"semantic_type\": \"\",\n        \"description\": \"\"\n      }\n    },\n    {\n      \"column\": \"asin\",\n      \"properties\": {\n        \"dtype\": \"category\",\n        \"num_unique_values\": 1368,\n        \"samples\": [\n          \"B0000CEW4O\",\n          \"B00028OMXQ\",\n          \"B00014FSXO\"\n        ],\n        \"semantic_type\": \"\",\n        \"description\": \"\"\n      }\n    },\n    {\n      \"column\": \"reviewerName\",\n      \"properties\": {\n        \"dtype\": \"string\",\n        \"num_unique_values\": 15700,\n        \"samples\": [\n          \"Richard D. Wilson\",\n          \"thomas berrigan\",\n          \"Jane Hinrichs \\\"Artist and Writer\\\"\"\n        ],\n        \"semantic_type\": \"\",\n        \"description\": \"\"\n      }\n    },\n    {\n      \"column\": \"helpful\",\n      \"properties\": {\n        \"dtype\": \"object\",\n        \"semantic_type\": \"\",\n        \"description\": \"\"\n      }\n    },\n    {\n      \"column\": \"reviewText\",\n      \"properties\": {\n        \"dtype\": \"string\",\n        \"num_unique_values\": 25937,\n        \"samples\": [\n          \"Bot the fault of the blood pressure cuff...some reviews stated that it came with an ac adapter, which was important to us, but it did not, and the return situation was very bad.  Amazon came to the rescue, as this was a third party seller.  I applaud Amazon for their role in this mess....I think it is a good cuff...just not what we needed.\",\n          \"Clearblue is the most accurate pregnancy test I've ever used; however, I will say that you cannot use this test until 12+ days post ovulation. I would buy an early response test or Wondfo test if you're really wanting to know right away and then follow up with confirmation using the Clearblue digitals.  Early response tests sometimes have dye bleeding issues and false results in my experience so if you don't care about an early response just stick with the Clearblue digitals and test later.\",\n          \"MAGNESIUM DEFICIENCY AFFECTS APPROXIMATELY 75% OF THE POPULATION DUE TO C URRENT FARMING PRACTICES.  AND IF YOU'RE CONSTIPATED  THIS PRODUCT GI VES EXCELLENT RESULTS.\"\n        ],\n        \"semantic_type\": \"\",\n        \"description\": \"\"\n      }\n    },\n    {\n      \"column\": \"overall\",\n      \"properties\": {\n        \"dtype\": \"number\",\n        \"std\": 1.133067578671099,\n        \"min\": 1.0,\n        \"max\": 5.0,\n        \"num_unique_values\": 5,\n        \"samples\": [\n          4.0,\n          2.0,\n          3.0\n        ],\n        \"semantic_type\": \"\",\n        \"description\": \"\"\n      }\n    },\n    {\n      \"column\": \"summary\",\n      \"properties\": {\n        \"dtype\": \"string\",\n        \"num_unique_values\": 21474,\n        \"samples\": [\n          \"Excellent high-carbon steel blade; Stays sharp & cuts through thick coats & undercoats...\",\n          \"OXO makes a good bottle brush.\",\n          \"Works fine, doesn't stay up\"\n        ],\n        \"semantic_type\": \"\",\n        \"description\": \"\"\n      }\n    },\n    {\n      \"column\": \"unixReviewTime\",\n      \"properties\": {\n        \"dtype\": \"number\",\n        \"std\": 61170390,\n        \"min\": 976320000,\n        \"max\": 1405987200,\n        \"num_unique_values\": 2948,\n        \"samples\": [\n          1306886400,\n          1321833600,\n          1151971200\n        ],\n        \"semantic_type\": \"\",\n        \"description\": \"\"\n      }\n    },\n    {\n      \"column\": \"reviewTime\",\n      \"properties\": {\n        \"dtype\": \"object\",\n        \"num_unique_values\": 2948,\n        \"samples\": [\n          \"06 1, 2011\",\n          \"11 21, 2011\",\n          \"07 4, 2006\"\n        ],\n        \"semantic_type\": \"\",\n        \"description\": \"\"\n      }\n    },\n    {\n      \"column\": \"label\",\n      \"properties\": {\n        \"dtype\": \"category\",\n        \"num_unique_values\": 2,\n        \"samples\": [\n          \"0\",\n          \"1\"\n        ],\n        \"semantic_type\": \"\",\n        \"description\": \"\"\n      }\n    }\n  ]\n}",
       "type": "dataframe",
       "variable_name": "df"
      },
      "text/html": [
       "\n",
       "  <div id=\"df-174aed56-5e9a-4ee1-8465-9f809cedc2c7\" class=\"colab-df-container\">\n",
       "    <div>\n",
       "<style scoped>\n",
       "    .dataframe tbody tr th:only-of-type {\n",
       "        vertical-align: middle;\n",
       "    }\n",
       "\n",
       "    .dataframe tbody tr th {\n",
       "        vertical-align: top;\n",
       "    }\n",
       "\n",
       "    .dataframe thead th {\n",
       "        text-align: right;\n",
       "    }\n",
       "</style>\n",
       "<table border=\"1\" class=\"dataframe\">\n",
       "  <thead>\n",
       "    <tr style=\"text-align: right;\">\n",
       "      <th></th>\n",
       "      <th>reviewerID</th>\n",
       "      <th>asin</th>\n",
       "      <th>reviewerName</th>\n",
       "      <th>helpful</th>\n",
       "      <th>reviewText</th>\n",
       "      <th>overall</th>\n",
       "      <th>summary</th>\n",
       "      <th>unixReviewTime</th>\n",
       "      <th>reviewTime</th>\n",
       "      <th>label</th>\n",
       "    </tr>\n",
       "  </thead>\n",
       "  <tbody>\n",
       "    <tr>\n",
       "      <th>0</th>\n",
       "      <td>ALC5GH8CAMAI7</td>\n",
       "      <td>159985130X</td>\n",
       "      <td>AnnN</td>\n",
       "      <td>[1, 1]</td>\n",
       "      <td>This is a great little gadget to have around. ...</td>\n",
       "      <td>5.0</td>\n",
       "      <td>Handy little gadget</td>\n",
       "      <td>1294185600</td>\n",
       "      <td>01 5, 2011</td>\n",
       "      <td>1</td>\n",
       "    </tr>\n",
       "    <tr>\n",
       "      <th>1</th>\n",
       "      <td>AHKSURW85PJUE</td>\n",
       "      <td>159985130X</td>\n",
       "      <td>AZ buyer \"AZ buyer\"</td>\n",
       "      <td>[1, 1]</td>\n",
       "      <td>I would recommend this for a travel magnifier ...</td>\n",
       "      <td>4.0</td>\n",
       "      <td>Small &amp; may need to encourage battery</td>\n",
       "      <td>1329523200</td>\n",
       "      <td>02 18, 2012</td>\n",
       "      <td>1</td>\n",
       "    </tr>\n",
       "    <tr>\n",
       "      <th>2</th>\n",
       "      <td>A38RMU1Y5TDP9</td>\n",
       "      <td>159985130X</td>\n",
       "      <td>Bob Tobias \"Robert Tobias\"</td>\n",
       "      <td>[75, 77]</td>\n",
       "      <td>What I liked was the quality of the lens and t...</td>\n",
       "      <td>4.0</td>\n",
       "      <td>Very good but not great</td>\n",
       "      <td>1275955200</td>\n",
       "      <td>06 8, 2010</td>\n",
       "      <td>1</td>\n",
       "    </tr>\n",
       "    <tr>\n",
       "      <th>3</th>\n",
       "      <td>A1XZUG7DFXXOS4</td>\n",
       "      <td>159985130X</td>\n",
       "      <td>Cat lover</td>\n",
       "      <td>[56, 60]</td>\n",
       "      <td>Love the Great point light pocket magnifier!  ...</td>\n",
       "      <td>4.0</td>\n",
       "      <td>great addition to your purse</td>\n",
       "      <td>1202428800</td>\n",
       "      <td>02 8, 2008</td>\n",
       "      <td>1</td>\n",
       "    </tr>\n",
       "    <tr>\n",
       "      <th>4</th>\n",
       "      <td>A1MS3M7M7AM13X</td>\n",
       "      <td>159985130X</td>\n",
       "      <td>Cricketoes</td>\n",
       "      <td>[1, 1]</td>\n",
       "      <td>This is very nice. You pull out on the magnifi...</td>\n",
       "      <td>5.0</td>\n",
       "      <td>Very nice and convenient.</td>\n",
       "      <td>1313452800</td>\n",
       "      <td>08 16, 2011</td>\n",
       "      <td>1</td>\n",
       "    </tr>\n",
       "  </tbody>\n",
       "</table>\n",
       "</div>\n",
       "    <div class=\"colab-df-buttons\">\n",
       "\n",
       "  <div class=\"colab-df-container\">\n",
       "    <button class=\"colab-df-convert\" onclick=\"convertToInteractive('df-174aed56-5e9a-4ee1-8465-9f809cedc2c7')\"\n",
       "            title=\"Convert this dataframe to an interactive table.\"\n",
       "            style=\"display:none;\">\n",
       "\n",
       "  <svg xmlns=\"http://www.w3.org/2000/svg\" height=\"24px\" viewBox=\"0 -960 960 960\">\n",
       "    <path d=\"M120-120v-720h720v720H120Zm60-500h600v-160H180v160Zm220 220h160v-160H400v160Zm0 220h160v-160H400v160ZM180-400h160v-160H180v160Zm440 0h160v-160H620v160ZM180-180h160v-160H180v160Zm440 0h160v-160H620v160Z\"/>\n",
       "  </svg>\n",
       "    </button>\n",
       "\n",
       "  <style>\n",
       "    .colab-df-container {\n",
       "      display:flex;\n",
       "      gap: 12px;\n",
       "    }\n",
       "\n",
       "    .colab-df-convert {\n",
       "      background-color: #E8F0FE;\n",
       "      border: none;\n",
       "      border-radius: 50%;\n",
       "      cursor: pointer;\n",
       "      display: none;\n",
       "      fill: #1967D2;\n",
       "      height: 32px;\n",
       "      padding: 0 0 0 0;\n",
       "      width: 32px;\n",
       "    }\n",
       "\n",
       "    .colab-df-convert:hover {\n",
       "      background-color: #E2EBFA;\n",
       "      box-shadow: 0px 1px 2px rgba(60, 64, 67, 0.3), 0px 1px 3px 1px rgba(60, 64, 67, 0.15);\n",
       "      fill: #174EA6;\n",
       "    }\n",
       "\n",
       "    .colab-df-buttons div {\n",
       "      margin-bottom: 4px;\n",
       "    }\n",
       "\n",
       "    [theme=dark] .colab-df-convert {\n",
       "      background-color: #3B4455;\n",
       "      fill: #D2E3FC;\n",
       "    }\n",
       "\n",
       "    [theme=dark] .colab-df-convert:hover {\n",
       "      background-color: #434B5C;\n",
       "      box-shadow: 0px 1px 3px 1px rgba(0, 0, 0, 0.15);\n",
       "      filter: drop-shadow(0px 1px 2px rgba(0, 0, 0, 0.3));\n",
       "      fill: #FFFFFF;\n",
       "    }\n",
       "  </style>\n",
       "\n",
       "    <script>\n",
       "      const buttonEl =\n",
       "        document.querySelector('#df-174aed56-5e9a-4ee1-8465-9f809cedc2c7 button.colab-df-convert');\n",
       "      buttonEl.style.display =\n",
       "        google.colab.kernel.accessAllowed ? 'block' : 'none';\n",
       "\n",
       "      async function convertToInteractive(key) {\n",
       "        const element = document.querySelector('#df-174aed56-5e9a-4ee1-8465-9f809cedc2c7');\n",
       "        const dataTable =\n",
       "          await google.colab.kernel.invokeFunction('convertToInteractive',\n",
       "                                                    [key], {});\n",
       "        if (!dataTable) return;\n",
       "\n",
       "        const docLinkHtml = 'Like what you see? Visit the ' +\n",
       "          '<a target=\"_blank\" href=https://colab.research.google.com/notebooks/data_table.ipynb>data table notebook</a>'\n",
       "          + ' to learn more about interactive tables.';\n",
       "        element.innerHTML = '';\n",
       "        dataTable['output_type'] = 'display_data';\n",
       "        await google.colab.output.renderOutput(dataTable, element);\n",
       "        const docLink = document.createElement('div');\n",
       "        docLink.innerHTML = docLinkHtml;\n",
       "        element.appendChild(docLink);\n",
       "      }\n",
       "    </script>\n",
       "  </div>\n",
       "\n",
       "\n",
       "<div id=\"df-cc554183-57b7-4963-8889-d7470898ffc0\">\n",
       "  <button class=\"colab-df-quickchart\" onclick=\"quickchart('df-cc554183-57b7-4963-8889-d7470898ffc0')\"\n",
       "            title=\"Suggest charts\"\n",
       "            style=\"display:none;\">\n",
       "\n",
       "<svg xmlns=\"http://www.w3.org/2000/svg\" height=\"24px\"viewBox=\"0 0 24 24\"\n",
       "     width=\"24px\">\n",
       "    <g>\n",
       "        <path d=\"M19 3H5c-1.1 0-2 .9-2 2v14c0 1.1.9 2 2 2h14c1.1 0 2-.9 2-2V5c0-1.1-.9-2-2-2zM9 17H7v-7h2v7zm4 0h-2V7h2v10zm4 0h-2v-4h2v4z\"/>\n",
       "    </g>\n",
       "</svg>\n",
       "  </button>\n",
       "\n",
       "<style>\n",
       "  .colab-df-quickchart {\n",
       "      --bg-color: #E8F0FE;\n",
       "      --fill-color: #1967D2;\n",
       "      --hover-bg-color: #E2EBFA;\n",
       "      --hover-fill-color: #174EA6;\n",
       "      --disabled-fill-color: #AAA;\n",
       "      --disabled-bg-color: #DDD;\n",
       "  }\n",
       "\n",
       "  [theme=dark] .colab-df-quickchart {\n",
       "      --bg-color: #3B4455;\n",
       "      --fill-color: #D2E3FC;\n",
       "      --hover-bg-color: #434B5C;\n",
       "      --hover-fill-color: #FFFFFF;\n",
       "      --disabled-bg-color: #3B4455;\n",
       "      --disabled-fill-color: #666;\n",
       "  }\n",
       "\n",
       "  .colab-df-quickchart {\n",
       "    background-color: var(--bg-color);\n",
       "    border: none;\n",
       "    border-radius: 50%;\n",
       "    cursor: pointer;\n",
       "    display: none;\n",
       "    fill: var(--fill-color);\n",
       "    height: 32px;\n",
       "    padding: 0;\n",
       "    width: 32px;\n",
       "  }\n",
       "\n",
       "  .colab-df-quickchart:hover {\n",
       "    background-color: var(--hover-bg-color);\n",
       "    box-shadow: 0 1px 2px rgba(60, 64, 67, 0.3), 0 1px 3px 1px rgba(60, 64, 67, 0.15);\n",
       "    fill: var(--button-hover-fill-color);\n",
       "  }\n",
       "\n",
       "  .colab-df-quickchart-complete:disabled,\n",
       "  .colab-df-quickchart-complete:disabled:hover {\n",
       "    background-color: var(--disabled-bg-color);\n",
       "    fill: var(--disabled-fill-color);\n",
       "    box-shadow: none;\n",
       "  }\n",
       "\n",
       "  .colab-df-spinner {\n",
       "    border: 2px solid var(--fill-color);\n",
       "    border-color: transparent;\n",
       "    border-bottom-color: var(--fill-color);\n",
       "    animation:\n",
       "      spin 1s steps(1) infinite;\n",
       "  }\n",
       "\n",
       "  @keyframes spin {\n",
       "    0% {\n",
       "      border-color: transparent;\n",
       "      border-bottom-color: var(--fill-color);\n",
       "      border-left-color: var(--fill-color);\n",
       "    }\n",
       "    20% {\n",
       "      border-color: transparent;\n",
       "      border-left-color: var(--fill-color);\n",
       "      border-top-color: var(--fill-color);\n",
       "    }\n",
       "    30% {\n",
       "      border-color: transparent;\n",
       "      border-left-color: var(--fill-color);\n",
       "      border-top-color: var(--fill-color);\n",
       "      border-right-color: var(--fill-color);\n",
       "    }\n",
       "    40% {\n",
       "      border-color: transparent;\n",
       "      border-right-color: var(--fill-color);\n",
       "      border-top-color: var(--fill-color);\n",
       "    }\n",
       "    60% {\n",
       "      border-color: transparent;\n",
       "      border-right-color: var(--fill-color);\n",
       "    }\n",
       "    80% {\n",
       "      border-color: transparent;\n",
       "      border-right-color: var(--fill-color);\n",
       "      border-bottom-color: var(--fill-color);\n",
       "    }\n",
       "    90% {\n",
       "      border-color: transparent;\n",
       "      border-bottom-color: var(--fill-color);\n",
       "    }\n",
       "  }\n",
       "</style>\n",
       "\n",
       "  <script>\n",
       "    async function quickchart(key) {\n",
       "      const quickchartButtonEl =\n",
       "        document.querySelector('#' + key + ' button');\n",
       "      quickchartButtonEl.disabled = true;  // To prevent multiple clicks.\n",
       "      quickchartButtonEl.classList.add('colab-df-spinner');\n",
       "      try {\n",
       "        const charts = await google.colab.kernel.invokeFunction(\n",
       "            'suggestCharts', [key], {});\n",
       "      } catch (error) {\n",
       "        console.error('Error during call to suggestCharts:', error);\n",
       "      }\n",
       "      quickchartButtonEl.classList.remove('colab-df-spinner');\n",
       "      quickchartButtonEl.classList.add('colab-df-quickchart-complete');\n",
       "    }\n",
       "    (() => {\n",
       "      let quickchartButtonEl =\n",
       "        document.querySelector('#df-cc554183-57b7-4963-8889-d7470898ffc0 button');\n",
       "      quickchartButtonEl.style.display =\n",
       "        google.colab.kernel.accessAllowed ? 'block' : 'none';\n",
       "    })();\n",
       "  </script>\n",
       "</div>\n",
       "    </div>\n",
       "  </div>\n"
      ],
      "text/plain": [
       "       reviewerID        asin                reviewerName   helpful  \\\n",
       "0   ALC5GH8CAMAI7  159985130X                        AnnN    [1, 1]   \n",
       "1   AHKSURW85PJUE  159985130X         AZ buyer \"AZ buyer\"    [1, 1]   \n",
       "2   A38RMU1Y5TDP9  159985130X  Bob Tobias \"Robert Tobias\"  [75, 77]   \n",
       "3  A1XZUG7DFXXOS4  159985130X                   Cat lover  [56, 60]   \n",
       "4  A1MS3M7M7AM13X  159985130X                  Cricketoes    [1, 1]   \n",
       "\n",
       "                                          reviewText  overall  \\\n",
       "0  This is a great little gadget to have around. ...      5.0   \n",
       "1  I would recommend this for a travel magnifier ...      4.0   \n",
       "2  What I liked was the quality of the lens and t...      4.0   \n",
       "3  Love the Great point light pocket magnifier!  ...      4.0   \n",
       "4  This is very nice. You pull out on the magnifi...      5.0   \n",
       "\n",
       "                                 summary  unixReviewTime   reviewTime label  \n",
       "0                    Handy little gadget      1294185600   01 5, 2011     1  \n",
       "1  Small & may need to encourage battery      1329523200  02 18, 2012     1  \n",
       "2                Very good but not great      1275955200   06 8, 2010     1  \n",
       "3           great addition to your purse      1202428800   02 8, 2008     1  \n",
       "4              Very nice and convenient.      1313452800  08 16, 2011     1  "
      ]
     },
     "execution_count": 12,
     "metadata": {},
     "output_type": "execute_result"
    }
   ],
   "source": [
    "df['label'] = df['overall'].apply(lambda x: '1' if x >= 4 else '0')\n",
    "df.head(5)"
   ]
  },
  {
   "cell_type": "code",
   "execution_count": null,
   "metadata": {
    "colab": {
     "base_uri": "https://localhost:8080/",
     "height": 293
    },
    "executionInfo": {
     "elapsed": 843,
     "status": "ok",
     "timestamp": 1716581052158,
     "user": {
      "displayName": "Mrimon (Nemo) Guha",
      "userId": "17002090688478565716"
     },
     "user_tz": 420
    },
    "id": "fLzWsJXtVwcf",
    "outputId": "c0cdfd32-a694-46c1-8469-b575b2d37cef"
   },
   "outputs": [
    {
     "data": {
      "application/vnd.google.colaboratory.intrinsic+json": {
       "summary": "{\n  \"name\": \"df\",\n  \"rows\": 25944,\n  \"fields\": [\n    {\n      \"column\": \"reviewerID\",\n      \"properties\": {\n        \"dtype\": \"string\",\n        \"num_unique_values\": 16982,\n        \"samples\": [\n          \"A3CZNNTEY657TE\",\n          \"AF5AJ5V9T6LTS\",\n          \"A1JZ6ZXWWLFAD4\"\n        ],\n        \"semantic_type\": \"\",\n        \"description\": \"\"\n      }\n    },\n    {\n      \"column\": \"asin\",\n      \"properties\": {\n        \"dtype\": \"category\",\n        \"num_unique_values\": 1368,\n        \"samples\": [\n          \"B0000CEW4O\",\n          \"B00028OMXQ\",\n          \"B00014FSXO\"\n        ],\n        \"semantic_type\": \"\",\n        \"description\": \"\"\n      }\n    },\n    {\n      \"column\": \"reviewerName\",\n      \"properties\": {\n        \"dtype\": \"string\",\n        \"num_unique_values\": 15700,\n        \"samples\": [\n          \"Richard D. Wilson\",\n          \"thomas berrigan\",\n          \"Jane Hinrichs \\\"Artist and Writer\\\"\"\n        ],\n        \"semantic_type\": \"\",\n        \"description\": \"\"\n      }\n    },\n    {\n      \"column\": \"helpful\",\n      \"properties\": {\n        \"dtype\": \"object\",\n        \"semantic_type\": \"\",\n        \"description\": \"\"\n      }\n    },\n    {\n      \"column\": \"reviewText\",\n      \"properties\": {\n        \"dtype\": \"string\",\n        \"num_unique_values\": 25937,\n        \"samples\": [\n          \"Bot the fault of the blood pressure cuff...some reviews stated that it came with an ac adapter, which was important to us, but it did not, and the return situation was very bad.  Amazon came to the rescue, as this was a third party seller.  I applaud Amazon for their role in this mess....I think it is a good cuff...just not what we needed.\",\n          \"Clearblue is the most accurate pregnancy test I've ever used; however, I will say that you cannot use this test until 12+ days post ovulation. I would buy an early response test or Wondfo test if you're really wanting to know right away and then follow up with confirmation using the Clearblue digitals.  Early response tests sometimes have dye bleeding issues and false results in my experience so if you don't care about an early response just stick with the Clearblue digitals and test later.\",\n          \"MAGNESIUM DEFICIENCY AFFECTS APPROXIMATELY 75% OF THE POPULATION DUE TO C URRENT FARMING PRACTICES.  AND IF YOU'RE CONSTIPATED  THIS PRODUCT GI VES EXCELLENT RESULTS.\"\n        ],\n        \"semantic_type\": \"\",\n        \"description\": \"\"\n      }\n    },\n    {\n      \"column\": \"overall\",\n      \"properties\": {\n        \"dtype\": \"number\",\n        \"std\": 1.133067578671099,\n        \"min\": 1.0,\n        \"max\": 5.0,\n        \"num_unique_values\": 5,\n        \"samples\": [\n          4.0,\n          2.0,\n          3.0\n        ],\n        \"semantic_type\": \"\",\n        \"description\": \"\"\n      }\n    },\n    {\n      \"column\": \"summary\",\n      \"properties\": {\n        \"dtype\": \"string\",\n        \"num_unique_values\": 21474,\n        \"samples\": [\n          \"Excellent high-carbon steel blade; Stays sharp & cuts through thick coats & undercoats...\",\n          \"OXO makes a good bottle brush.\",\n          \"Works fine, doesn't stay up\"\n        ],\n        \"semantic_type\": \"\",\n        \"description\": \"\"\n      }\n    },\n    {\n      \"column\": \"unixReviewTime\",\n      \"properties\": {\n        \"dtype\": \"number\",\n        \"std\": 61170390,\n        \"min\": 976320000,\n        \"max\": 1405987200,\n        \"num_unique_values\": 2948,\n        \"samples\": [\n          1306886400,\n          1321833600,\n          1151971200\n        ],\n        \"semantic_type\": \"\",\n        \"description\": \"\"\n      }\n    },\n    {\n      \"column\": \"reviewTime\",\n      \"properties\": {\n        \"dtype\": \"object\",\n        \"num_unique_values\": 2948,\n        \"samples\": [\n          \"06 1, 2011\",\n          \"11 21, 2011\",\n          \"07 4, 2006\"\n        ],\n        \"semantic_type\": \"\",\n        \"description\": \"\"\n      }\n    },\n    {\n      \"column\": \"label\",\n      \"properties\": {\n        \"dtype\": \"category\",\n        \"num_unique_values\": 2,\n        \"samples\": [\n          \"0\",\n          \"1\"\n        ],\n        \"semantic_type\": \"\",\n        \"description\": \"\"\n      }\n    },\n    {\n      \"column\": \"formatted_reviewTime\",\n      \"properties\": {\n        \"dtype\": \"object\",\n        \"num_unique_values\": 2948,\n        \"samples\": [\n          \"2011-06-01\",\n          \"2011-11-21\"\n        ],\n        \"semantic_type\": \"\",\n        \"description\": \"\"\n      }\n    }\n  ]\n}",
       "type": "dataframe",
       "variable_name": "df"
      },
      "text/html": [
       "\n",
       "  <div id=\"df-1bda2d4b-a8a9-40c8-9bbb-060fe0d1bf08\" class=\"colab-df-container\">\n",
       "    <div>\n",
       "<style scoped>\n",
       "    .dataframe tbody tr th:only-of-type {\n",
       "        vertical-align: middle;\n",
       "    }\n",
       "\n",
       "    .dataframe tbody tr th {\n",
       "        vertical-align: top;\n",
       "    }\n",
       "\n",
       "    .dataframe thead th {\n",
       "        text-align: right;\n",
       "    }\n",
       "</style>\n",
       "<table border=\"1\" class=\"dataframe\">\n",
       "  <thead>\n",
       "    <tr style=\"text-align: right;\">\n",
       "      <th></th>\n",
       "      <th>reviewerID</th>\n",
       "      <th>asin</th>\n",
       "      <th>reviewerName</th>\n",
       "      <th>helpful</th>\n",
       "      <th>reviewText</th>\n",
       "      <th>overall</th>\n",
       "      <th>summary</th>\n",
       "      <th>unixReviewTime</th>\n",
       "      <th>reviewTime</th>\n",
       "      <th>label</th>\n",
       "      <th>formatted_reviewTime</th>\n",
       "    </tr>\n",
       "  </thead>\n",
       "  <tbody>\n",
       "    <tr>\n",
       "      <th>0</th>\n",
       "      <td>ALC5GH8CAMAI7</td>\n",
       "      <td>159985130X</td>\n",
       "      <td>AnnN</td>\n",
       "      <td>[1, 1]</td>\n",
       "      <td>This is a great little gadget to have around. ...</td>\n",
       "      <td>5.0</td>\n",
       "      <td>Handy little gadget</td>\n",
       "      <td>1294185600</td>\n",
       "      <td>01 5, 2011</td>\n",
       "      <td>1</td>\n",
       "      <td>2011-01-05</td>\n",
       "    </tr>\n",
       "    <tr>\n",
       "      <th>1</th>\n",
       "      <td>AHKSURW85PJUE</td>\n",
       "      <td>159985130X</td>\n",
       "      <td>AZ buyer \"AZ buyer\"</td>\n",
       "      <td>[1, 1]</td>\n",
       "      <td>I would recommend this for a travel magnifier ...</td>\n",
       "      <td>4.0</td>\n",
       "      <td>Small &amp; may need to encourage battery</td>\n",
       "      <td>1329523200</td>\n",
       "      <td>02 18, 2012</td>\n",
       "      <td>1</td>\n",
       "      <td>2012-02-18</td>\n",
       "    </tr>\n",
       "    <tr>\n",
       "      <th>2</th>\n",
       "      <td>A38RMU1Y5TDP9</td>\n",
       "      <td>159985130X</td>\n",
       "      <td>Bob Tobias \"Robert Tobias\"</td>\n",
       "      <td>[75, 77]</td>\n",
       "      <td>What I liked was the quality of the lens and t...</td>\n",
       "      <td>4.0</td>\n",
       "      <td>Very good but not great</td>\n",
       "      <td>1275955200</td>\n",
       "      <td>06 8, 2010</td>\n",
       "      <td>1</td>\n",
       "      <td>2010-06-08</td>\n",
       "    </tr>\n",
       "    <tr>\n",
       "      <th>3</th>\n",
       "      <td>A1XZUG7DFXXOS4</td>\n",
       "      <td>159985130X</td>\n",
       "      <td>Cat lover</td>\n",
       "      <td>[56, 60]</td>\n",
       "      <td>Love the Great point light pocket magnifier!  ...</td>\n",
       "      <td>4.0</td>\n",
       "      <td>great addition to your purse</td>\n",
       "      <td>1202428800</td>\n",
       "      <td>02 8, 2008</td>\n",
       "      <td>1</td>\n",
       "      <td>2008-02-08</td>\n",
       "    </tr>\n",
       "    <tr>\n",
       "      <th>4</th>\n",
       "      <td>A1MS3M7M7AM13X</td>\n",
       "      <td>159985130X</td>\n",
       "      <td>Cricketoes</td>\n",
       "      <td>[1, 1]</td>\n",
       "      <td>This is very nice. You pull out on the magnifi...</td>\n",
       "      <td>5.0</td>\n",
       "      <td>Very nice and convenient.</td>\n",
       "      <td>1313452800</td>\n",
       "      <td>08 16, 2011</td>\n",
       "      <td>1</td>\n",
       "      <td>2011-08-16</td>\n",
       "    </tr>\n",
       "  </tbody>\n",
       "</table>\n",
       "</div>\n",
       "    <div class=\"colab-df-buttons\">\n",
       "\n",
       "  <div class=\"colab-df-container\">\n",
       "    <button class=\"colab-df-convert\" onclick=\"convertToInteractive('df-1bda2d4b-a8a9-40c8-9bbb-060fe0d1bf08')\"\n",
       "            title=\"Convert this dataframe to an interactive table.\"\n",
       "            style=\"display:none;\">\n",
       "\n",
       "  <svg xmlns=\"http://www.w3.org/2000/svg\" height=\"24px\" viewBox=\"0 -960 960 960\">\n",
       "    <path d=\"M120-120v-720h720v720H120Zm60-500h600v-160H180v160Zm220 220h160v-160H400v160Zm0 220h160v-160H400v160ZM180-400h160v-160H180v160Zm440 0h160v-160H620v160ZM180-180h160v-160H180v160Zm440 0h160v-160H620v160Z\"/>\n",
       "  </svg>\n",
       "    </button>\n",
       "\n",
       "  <style>\n",
       "    .colab-df-container {\n",
       "      display:flex;\n",
       "      gap: 12px;\n",
       "    }\n",
       "\n",
       "    .colab-df-convert {\n",
       "      background-color: #E8F0FE;\n",
       "      border: none;\n",
       "      border-radius: 50%;\n",
       "      cursor: pointer;\n",
       "      display: none;\n",
       "      fill: #1967D2;\n",
       "      height: 32px;\n",
       "      padding: 0 0 0 0;\n",
       "      width: 32px;\n",
       "    }\n",
       "\n",
       "    .colab-df-convert:hover {\n",
       "      background-color: #E2EBFA;\n",
       "      box-shadow: 0px 1px 2px rgba(60, 64, 67, 0.3), 0px 1px 3px 1px rgba(60, 64, 67, 0.15);\n",
       "      fill: #174EA6;\n",
       "    }\n",
       "\n",
       "    .colab-df-buttons div {\n",
       "      margin-bottom: 4px;\n",
       "    }\n",
       "\n",
       "    [theme=dark] .colab-df-convert {\n",
       "      background-color: #3B4455;\n",
       "      fill: #D2E3FC;\n",
       "    }\n",
       "\n",
       "    [theme=dark] .colab-df-convert:hover {\n",
       "      background-color: #434B5C;\n",
       "      box-shadow: 0px 1px 3px 1px rgba(0, 0, 0, 0.15);\n",
       "      filter: drop-shadow(0px 1px 2px rgba(0, 0, 0, 0.3));\n",
       "      fill: #FFFFFF;\n",
       "    }\n",
       "  </style>\n",
       "\n",
       "    <script>\n",
       "      const buttonEl =\n",
       "        document.querySelector('#df-1bda2d4b-a8a9-40c8-9bbb-060fe0d1bf08 button.colab-df-convert');\n",
       "      buttonEl.style.display =\n",
       "        google.colab.kernel.accessAllowed ? 'block' : 'none';\n",
       "\n",
       "      async function convertToInteractive(key) {\n",
       "        const element = document.querySelector('#df-1bda2d4b-a8a9-40c8-9bbb-060fe0d1bf08');\n",
       "        const dataTable =\n",
       "          await google.colab.kernel.invokeFunction('convertToInteractive',\n",
       "                                                    [key], {});\n",
       "        if (!dataTable) return;\n",
       "\n",
       "        const docLinkHtml = 'Like what you see? Visit the ' +\n",
       "          '<a target=\"_blank\" href=https://colab.research.google.com/notebooks/data_table.ipynb>data table notebook</a>'\n",
       "          + ' to learn more about interactive tables.';\n",
       "        element.innerHTML = '';\n",
       "        dataTable['output_type'] = 'display_data';\n",
       "        await google.colab.output.renderOutput(dataTable, element);\n",
       "        const docLink = document.createElement('div');\n",
       "        docLink.innerHTML = docLinkHtml;\n",
       "        element.appendChild(docLink);\n",
       "      }\n",
       "    </script>\n",
       "  </div>\n",
       "\n",
       "\n",
       "<div id=\"df-42a86eb9-4e7f-4152-8271-f2a686bc255a\">\n",
       "  <button class=\"colab-df-quickchart\" onclick=\"quickchart('df-42a86eb9-4e7f-4152-8271-f2a686bc255a')\"\n",
       "            title=\"Suggest charts\"\n",
       "            style=\"display:none;\">\n",
       "\n",
       "<svg xmlns=\"http://www.w3.org/2000/svg\" height=\"24px\"viewBox=\"0 0 24 24\"\n",
       "     width=\"24px\">\n",
       "    <g>\n",
       "        <path d=\"M19 3H5c-1.1 0-2 .9-2 2v14c0 1.1.9 2 2 2h14c1.1 0 2-.9 2-2V5c0-1.1-.9-2-2-2zM9 17H7v-7h2v7zm4 0h-2V7h2v10zm4 0h-2v-4h2v4z\"/>\n",
       "    </g>\n",
       "</svg>\n",
       "  </button>\n",
       "\n",
       "<style>\n",
       "  .colab-df-quickchart {\n",
       "      --bg-color: #E8F0FE;\n",
       "      --fill-color: #1967D2;\n",
       "      --hover-bg-color: #E2EBFA;\n",
       "      --hover-fill-color: #174EA6;\n",
       "      --disabled-fill-color: #AAA;\n",
       "      --disabled-bg-color: #DDD;\n",
       "  }\n",
       "\n",
       "  [theme=dark] .colab-df-quickchart {\n",
       "      --bg-color: #3B4455;\n",
       "      --fill-color: #D2E3FC;\n",
       "      --hover-bg-color: #434B5C;\n",
       "      --hover-fill-color: #FFFFFF;\n",
       "      --disabled-bg-color: #3B4455;\n",
       "      --disabled-fill-color: #666;\n",
       "  }\n",
       "\n",
       "  .colab-df-quickchart {\n",
       "    background-color: var(--bg-color);\n",
       "    border: none;\n",
       "    border-radius: 50%;\n",
       "    cursor: pointer;\n",
       "    display: none;\n",
       "    fill: var(--fill-color);\n",
       "    height: 32px;\n",
       "    padding: 0;\n",
       "    width: 32px;\n",
       "  }\n",
       "\n",
       "  .colab-df-quickchart:hover {\n",
       "    background-color: var(--hover-bg-color);\n",
       "    box-shadow: 0 1px 2px rgba(60, 64, 67, 0.3), 0 1px 3px 1px rgba(60, 64, 67, 0.15);\n",
       "    fill: var(--button-hover-fill-color);\n",
       "  }\n",
       "\n",
       "  .colab-df-quickchart-complete:disabled,\n",
       "  .colab-df-quickchart-complete:disabled:hover {\n",
       "    background-color: var(--disabled-bg-color);\n",
       "    fill: var(--disabled-fill-color);\n",
       "    box-shadow: none;\n",
       "  }\n",
       "\n",
       "  .colab-df-spinner {\n",
       "    border: 2px solid var(--fill-color);\n",
       "    border-color: transparent;\n",
       "    border-bottom-color: var(--fill-color);\n",
       "    animation:\n",
       "      spin 1s steps(1) infinite;\n",
       "  }\n",
       "\n",
       "  @keyframes spin {\n",
       "    0% {\n",
       "      border-color: transparent;\n",
       "      border-bottom-color: var(--fill-color);\n",
       "      border-left-color: var(--fill-color);\n",
       "    }\n",
       "    20% {\n",
       "      border-color: transparent;\n",
       "      border-left-color: var(--fill-color);\n",
       "      border-top-color: var(--fill-color);\n",
       "    }\n",
       "    30% {\n",
       "      border-color: transparent;\n",
       "      border-left-color: var(--fill-color);\n",
       "      border-top-color: var(--fill-color);\n",
       "      border-right-color: var(--fill-color);\n",
       "    }\n",
       "    40% {\n",
       "      border-color: transparent;\n",
       "      border-right-color: var(--fill-color);\n",
       "      border-top-color: var(--fill-color);\n",
       "    }\n",
       "    60% {\n",
       "      border-color: transparent;\n",
       "      border-right-color: var(--fill-color);\n",
       "    }\n",
       "    80% {\n",
       "      border-color: transparent;\n",
       "      border-right-color: var(--fill-color);\n",
       "      border-bottom-color: var(--fill-color);\n",
       "    }\n",
       "    90% {\n",
       "      border-color: transparent;\n",
       "      border-bottom-color: var(--fill-color);\n",
       "    }\n",
       "  }\n",
       "</style>\n",
       "\n",
       "  <script>\n",
       "    async function quickchart(key) {\n",
       "      const quickchartButtonEl =\n",
       "        document.querySelector('#' + key + ' button');\n",
       "      quickchartButtonEl.disabled = true;  // To prevent multiple clicks.\n",
       "      quickchartButtonEl.classList.add('colab-df-spinner');\n",
       "      try {\n",
       "        const charts = await google.colab.kernel.invokeFunction(\n",
       "            'suggestCharts', [key], {});\n",
       "      } catch (error) {\n",
       "        console.error('Error during call to suggestCharts:', error);\n",
       "      }\n",
       "      quickchartButtonEl.classList.remove('colab-df-spinner');\n",
       "      quickchartButtonEl.classList.add('colab-df-quickchart-complete');\n",
       "    }\n",
       "    (() => {\n",
       "      let quickchartButtonEl =\n",
       "        document.querySelector('#df-42a86eb9-4e7f-4152-8271-f2a686bc255a button');\n",
       "      quickchartButtonEl.style.display =\n",
       "        google.colab.kernel.accessAllowed ? 'block' : 'none';\n",
       "    })();\n",
       "  </script>\n",
       "</div>\n",
       "    </div>\n",
       "  </div>\n"
      ],
      "text/plain": [
       "       reviewerID        asin                reviewerName   helpful  \\\n",
       "0   ALC5GH8CAMAI7  159985130X                        AnnN    [1, 1]   \n",
       "1   AHKSURW85PJUE  159985130X         AZ buyer \"AZ buyer\"    [1, 1]   \n",
       "2   A38RMU1Y5TDP9  159985130X  Bob Tobias \"Robert Tobias\"  [75, 77]   \n",
       "3  A1XZUG7DFXXOS4  159985130X                   Cat lover  [56, 60]   \n",
       "4  A1MS3M7M7AM13X  159985130X                  Cricketoes    [1, 1]   \n",
       "\n",
       "                                          reviewText  overall  \\\n",
       "0  This is a great little gadget to have around. ...      5.0   \n",
       "1  I would recommend this for a travel magnifier ...      4.0   \n",
       "2  What I liked was the quality of the lens and t...      4.0   \n",
       "3  Love the Great point light pocket magnifier!  ...      4.0   \n",
       "4  This is very nice. You pull out on the magnifi...      5.0   \n",
       "\n",
       "                                 summary  unixReviewTime   reviewTime label  \\\n",
       "0                    Handy little gadget      1294185600   01 5, 2011     1   \n",
       "1  Small & may need to encourage battery      1329523200  02 18, 2012     1   \n",
       "2                Very good but not great      1275955200   06 8, 2010     1   \n",
       "3           great addition to your purse      1202428800   02 8, 2008     1   \n",
       "4              Very nice and convenient.      1313452800  08 16, 2011     1   \n",
       "\n",
       "  formatted_reviewTime  \n",
       "0           2011-01-05  \n",
       "1           2012-02-18  \n",
       "2           2010-06-08  \n",
       "3           2008-02-08  \n",
       "4           2011-08-16  "
      ]
     },
     "execution_count": 13,
     "metadata": {},
     "output_type": "execute_result"
    }
   ],
   "source": [
    "# handle 'reviewTime'\n",
    "\n",
    "df['formatted_reviewTime'] = pd.to_datetime(df['reviewTime'], format='%m %d, %Y')\n",
    "df['formatted_reviewTime'] = df['formatted_reviewTime'].dt.strftime('%Y-%m-%d')\n",
    "\n",
    "df.head(5)"
   ]
  },
  {
   "cell_type": "code",
   "execution_count": null,
   "metadata": {
    "id": "UQDYRNE2V4gq"
   },
   "outputs": [],
   "source": [
    "# transform reviewTime to datetime\n",
    "df['formatted_reviewTime'] = pd.to_datetime(df['formatted_reviewTime'])\n"
   ]
  },
  {
   "cell_type": "code",
   "execution_count": null,
   "metadata": {
    "colab": {
     "base_uri": "https://localhost:8080/",
     "height": 564
    },
    "executionInfo": {
     "elapsed": 755,
     "status": "ok",
     "timestamp": 1716581055532,
     "user": {
      "displayName": "Mrimon (Nemo) Guha",
      "userId": "17002090688478565716"
     },
     "user_tz": 420
    },
    "id": "qadR94GxXE_a",
    "outputId": "d66695fa-dcbd-460f-d6cf-80a0664d9dbd"
   },
   "outputs": [
    {
     "data": {
      "image/png": "[encoded data removed]",
      "text/plain": [
       "<Figure size 1000x600 with 1 Axes>"
      ]
     },
     "metadata": {},
     "output_type": "display_data"
    }
   ],
   "source": [
    "import pandas as pd\n",
    "import matplotlib.pyplot as plt\n",
    "import seaborn as sns\n",
    "# distribution of overall\n",
    "# Violin Plot\n",
    "plt.figure(figsize=(10, 6))\n",
    "sns.violinplot(x='overall', data=df)\n",
    "plt.title('Distribution of Review Ratings')\n",
    "plt.xlabel('Rating')\n",
    "plt.ylabel('Density')\n",
    "plt.show()"
   ]
  },
  {
   "cell_type": "markdown",
   "metadata": {
    "id": "mOLWOCPc826r"
   },
   "source": [
    "**Inference:** Most reviews have ratings of 5 which means customers are very happy"
   ]
  },
  {
   "cell_type": "code",
   "execution_count": null,
   "metadata": {
    "colab": {
     "base_uri": "https://localhost:8080/",
     "height": 397
    },
    "executionInfo": {
     "elapsed": 553,
     "status": "ok",
     "timestamp": 1716581056884,
     "user": {
      "displayName": "Mrimon (Nemo) Guha",
      "userId": "17002090688478565716"
     },
     "user_tz": 420
    },
    "id": "D_VnLPECZhj9",
    "outputId": "b0087aa5-cee6-4527-a035-443160bd158f"
   },
   "outputs": [
    {
     "data": {
      "application/vnd.google.colaboratory.intrinsic+json": {
       "summary": "{\n  \"name\": \"df\",\n  \"rows\": 25944,\n  \"fields\": [\n    {\n      \"column\": \"reviewerID\",\n      \"properties\": {\n        \"dtype\": \"string\",\n        \"num_unique_values\": 16982,\n        \"samples\": [\n          \"A3CZNNTEY657TE\",\n          \"AF5AJ5V9T6LTS\",\n          \"A1JZ6ZXWWLFAD4\"\n        ],\n        \"semantic_type\": \"\",\n        \"description\": \"\"\n      }\n    },\n    {\n      \"column\": \"asin\",\n      \"properties\": {\n        \"dtype\": \"category\",\n        \"num_unique_values\": 1368,\n        \"samples\": [\n          \"B0000CEW4O\",\n          \"B00028OMXQ\",\n          \"B00014FSXO\"\n        ],\n        \"semantic_type\": \"\",\n        \"description\": \"\"\n      }\n    },\n    {\n      \"column\": \"reviewerName\",\n      \"properties\": {\n        \"dtype\": \"string\",\n        \"num_unique_values\": 15700,\n        \"samples\": [\n          \"Richard D. Wilson\",\n          \"thomas berrigan\",\n          \"Jane Hinrichs \\\"Artist and Writer\\\"\"\n        ],\n        \"semantic_type\": \"\",\n        \"description\": \"\"\n      }\n    },\n    {\n      \"column\": \"helpful\",\n      \"properties\": {\n        \"dtype\": \"object\",\n        \"semantic_type\": \"\",\n        \"description\": \"\"\n      }\n    },\n    {\n      \"column\": \"reviewText\",\n      \"properties\": {\n        \"dtype\": \"string\",\n        \"num_unique_values\": 25937,\n        \"samples\": [\n          \"Bot the fault of the blood pressure cuff...some reviews stated that it came with an ac adapter, which was important to us, but it did not, and the return situation was very bad.  Amazon came to the rescue, as this was a third party seller.  I applaud Amazon for their role in this mess....I think it is a good cuff...just not what we needed.\",\n          \"Clearblue is the most accurate pregnancy test I've ever used; however, I will say that you cannot use this test until 12+ days post ovulation. I would buy an early response test or Wondfo test if you're really wanting to know right away and then follow up with confirmation using the Clearblue digitals.  Early response tests sometimes have dye bleeding issues and false results in my experience so if you don't care about an early response just stick with the Clearblue digitals and test later.\",\n          \"MAGNESIUM DEFICIENCY AFFECTS APPROXIMATELY 75% OF THE POPULATION DUE TO C URRENT FARMING PRACTICES.  AND IF YOU'RE CONSTIPATED  THIS PRODUCT GI VES EXCELLENT RESULTS.\"\n        ],\n        \"semantic_type\": \"\",\n        \"description\": \"\"\n      }\n    },\n    {\n      \"column\": \"overall\",\n      \"properties\": {\n        \"dtype\": \"number\",\n        \"std\": 1.133067578671099,\n        \"min\": 1.0,\n        \"max\": 5.0,\n        \"num_unique_values\": 5,\n        \"samples\": [\n          4.0,\n          2.0,\n          3.0\n        ],\n        \"semantic_type\": \"\",\n        \"description\": \"\"\n      }\n    },\n    {\n      \"column\": \"summary\",\n      \"properties\": {\n        \"dtype\": \"string\",\n        \"num_unique_values\": 21474,\n        \"samples\": [\n          \"Excellent high-carbon steel blade; Stays sharp & cuts through thick coats & undercoats...\",\n          \"OXO makes a good bottle brush.\",\n          \"Works fine, doesn't stay up\"\n        ],\n        \"semantic_type\": \"\",\n        \"description\": \"\"\n      }\n    },\n    {\n      \"column\": \"unixReviewTime\",\n      \"properties\": {\n        \"dtype\": \"number\",\n        \"std\": 61170390,\n        \"min\": 976320000,\n        \"max\": 1405987200,\n        \"num_unique_values\": 2948,\n        \"samples\": [\n          1306886400,\n          1321833600,\n          1151971200\n        ],\n        \"semantic_type\": \"\",\n        \"description\": \"\"\n      }\n    },\n    {\n      \"column\": \"reviewTime\",\n      \"properties\": {\n        \"dtype\": \"object\",\n        \"num_unique_values\": 2948,\n        \"samples\": [\n          \"06 1, 2011\",\n          \"11 21, 2011\",\n          \"07 4, 2006\"\n        ],\n        \"semantic_type\": \"\",\n        \"description\": \"\"\n      }\n    },\n    {\n      \"column\": \"label\",\n      \"properties\": {\n        \"dtype\": \"category\",\n        \"num_unique_values\": 2,\n        \"samples\": [\n          \"0\",\n          \"1\"\n        ],\n        \"semantic_type\": \"\",\n        \"description\": \"\"\n      }\n    },\n    {\n      \"column\": \"formatted_reviewTime\",\n      \"properties\": {\n        \"dtype\": \"date\",\n        \"min\": \"2000-12-09 00:00:00\",\n        \"max\": \"2014-07-22 00:00:00\",\n        \"num_unique_values\": 2948,\n        \"samples\": [\n          \"2011-06-01 00:00:00\",\n          \"2011-11-21 00:00:00\"\n        ],\n        \"semantic_type\": \"\",\n        \"description\": \"\"\n      }\n    },\n    {\n      \"column\": \"helpful_ratio\",\n      \"properties\": {\n        \"dtype\": \"number\",\n        \"std\": 0.443049916495351,\n        \"min\": 0.0,\n        \"max\": 1.0,\n        \"num_unique_values\": 448,\n        \"samples\": [\n          0.5806451612903226,\n          0.7575757575757576\n        ],\n        \"semantic_type\": \"\",\n        \"description\": \"\"\n      }\n    }\n  ]\n}",
       "type": "dataframe",
       "variable_name": "df"
      },
      "text/html": [
       "\n",
       "  <div id=\"df-db9824bb-5c2c-4c78-836b-ab841bf17c4e\" class=\"colab-df-container\">\n",
       "    <div>\n",
       "<style scoped>\n",
       "    .dataframe tbody tr th:only-of-type {\n",
       "        vertical-align: middle;\n",
       "    }\n",
       "\n",
       "    .dataframe tbody tr th {\n",
       "        vertical-align: top;\n",
       "    }\n",
       "\n",
       "    .dataframe thead th {\n",
       "        text-align: right;\n",
       "    }\n",
       "</style>\n",
       "<table border=\"1\" class=\"dataframe\">\n",
       "  <thead>\n",
       "    <tr style=\"text-align: right;\">\n",
       "      <th></th>\n",
       "      <th>reviewerID</th>\n",
       "      <th>asin</th>\n",
       "      <th>reviewerName</th>\n",
       "      <th>helpful</th>\n",
       "      <th>reviewText</th>\n",
       "      <th>overall</th>\n",
       "      <th>summary</th>\n",
       "      <th>unixReviewTime</th>\n",
       "      <th>reviewTime</th>\n",
       "      <th>label</th>\n",
       "      <th>formatted_reviewTime</th>\n",
       "      <th>helpful_ratio</th>\n",
       "    </tr>\n",
       "  </thead>\n",
       "  <tbody>\n",
       "    <tr>\n",
       "      <th>0</th>\n",
       "      <td>ALC5GH8CAMAI7</td>\n",
       "      <td>159985130X</td>\n",
       "      <td>AnnN</td>\n",
       "      <td>[1, 1]</td>\n",
       "      <td>This is a great little gadget to have around. ...</td>\n",
       "      <td>5.0</td>\n",
       "      <td>Handy little gadget</td>\n",
       "      <td>1294185600</td>\n",
       "      <td>01 5, 2011</td>\n",
       "      <td>1</td>\n",
       "      <td>2011-01-05</td>\n",
       "      <td>1.000000</td>\n",
       "    </tr>\n",
       "    <tr>\n",
       "      <th>1</th>\n",
       "      <td>AHKSURW85PJUE</td>\n",
       "      <td>159985130X</td>\n",
       "      <td>AZ buyer \"AZ buyer\"</td>\n",
       "      <td>[1, 1]</td>\n",
       "      <td>I would recommend this for a travel magnifier ...</td>\n",
       "      <td>4.0</td>\n",
       "      <td>Small &amp; may need to encourage battery</td>\n",
       "      <td>1329523200</td>\n",
       "      <td>02 18, 2012</td>\n",
       "      <td>1</td>\n",
       "      <td>2012-02-18</td>\n",
       "      <td>1.000000</td>\n",
       "    </tr>\n",
       "    <tr>\n",
       "      <th>2</th>\n",
       "      <td>A38RMU1Y5TDP9</td>\n",
       "      <td>159985130X</td>\n",
       "      <td>Bob Tobias \"Robert Tobias\"</td>\n",
       "      <td>[75, 77]</td>\n",
       "      <td>What I liked was the quality of the lens and t...</td>\n",
       "      <td>4.0</td>\n",
       "      <td>Very good but not great</td>\n",
       "      <td>1275955200</td>\n",
       "      <td>06 8, 2010</td>\n",
       "      <td>1</td>\n",
       "      <td>2010-06-08</td>\n",
       "      <td>0.974026</td>\n",
       "    </tr>\n",
       "    <tr>\n",
       "      <th>3</th>\n",
       "      <td>A1XZUG7DFXXOS4</td>\n",
       "      <td>159985130X</td>\n",
       "      <td>Cat lover</td>\n",
       "      <td>[56, 60]</td>\n",
       "      <td>Love the Great point light pocket magnifier!  ...</td>\n",
       "      <td>4.0</td>\n",
       "      <td>great addition to your purse</td>\n",
       "      <td>1202428800</td>\n",
       "      <td>02 8, 2008</td>\n",
       "      <td>1</td>\n",
       "      <td>2008-02-08</td>\n",
       "      <td>0.933333</td>\n",
       "    </tr>\n",
       "    <tr>\n",
       "      <th>4</th>\n",
       "      <td>A1MS3M7M7AM13X</td>\n",
       "      <td>159985130X</td>\n",
       "      <td>Cricketoes</td>\n",
       "      <td>[1, 1]</td>\n",
       "      <td>This is very nice. You pull out on the magnifi...</td>\n",
       "      <td>5.0</td>\n",
       "      <td>Very nice and convenient.</td>\n",
       "      <td>1313452800</td>\n",
       "      <td>08 16, 2011</td>\n",
       "      <td>1</td>\n",
       "      <td>2011-08-16</td>\n",
       "      <td>1.000000</td>\n",
       "    </tr>\n",
       "  </tbody>\n",
       "</table>\n",
       "</div>\n",
       "    <div class=\"colab-df-buttons\">\n",
       "\n",
       "  <div class=\"colab-df-container\">\n",
       "    <button class=\"colab-df-convert\" onclick=\"convertToInteractive('df-db9824bb-5c2c-4c78-836b-ab841bf17c4e')\"\n",
       "            title=\"Convert this dataframe to an interactive table.\"\n",
       "            style=\"display:none;\">\n",
       "\n",
       "  <svg xmlns=\"http://www.w3.org/2000/svg\" height=\"24px\" viewBox=\"0 -960 960 960\">\n",
       "    <path d=\"M120-120v-720h720v720H120Zm60-500h600v-160H180v160Zm220 220h160v-160H400v160Zm0 220h160v-160H400v160ZM180-400h160v-160H180v160Zm440 0h160v-160H620v160ZM180-180h160v-160H180v160Zm440 0h160v-160H620v160Z\"/>\n",
       "  </svg>\n",
       "    </button>\n",
       "\n",
       "  <style>\n",
       "    .colab-df-container {\n",
       "      display:flex;\n",
       "      gap: 12px;\n",
       "    }\n",
       "\n",
       "    .colab-df-convert {\n",
       "      background-color: #E8F0FE;\n",
       "      border: none;\n",
       "      border-radius: 50%;\n",
       "      cursor: pointer;\n",
       "      display: none;\n",
       "      fill: #1967D2;\n",
       "      height: 32px;\n",
       "      padding: 0 0 0 0;\n",
       "      width: 32px;\n",
       "    }\n",
       "\n",
       "    .colab-df-convert:hover {\n",
       "      background-color: #E2EBFA;\n",
       "      box-shadow: 0px 1px 2px rgba(60, 64, 67, 0.3), 0px 1px 3px 1px rgba(60, 64, 67, 0.15);\n",
       "      fill: #174EA6;\n",
       "    }\n",
       "\n",
       "    .colab-df-buttons div {\n",
       "      margin-bottom: 4px;\n",
       "    }\n",
       "\n",
       "    [theme=dark] .colab-df-convert {\n",
       "      background-color: #3B4455;\n",
       "      fill: #D2E3FC;\n",
       "    }\n",
       "\n",
       "    [theme=dark] .colab-df-convert:hover {\n",
       "      background-color: #434B5C;\n",
       "      box-shadow: 0px 1px 3px 1px rgba(0, 0, 0, 0.15);\n",
       "      filter: drop-shadow(0px 1px 2px rgba(0, 0, 0, 0.3));\n",
       "      fill: #FFFFFF;\n",
       "    }\n",
       "  </style>\n",
       "\n",
       "    <script>\n",
       "      const buttonEl =\n",
       "        document.querySelector('#df-db9824bb-5c2c-4c78-836b-ab841bf17c4e button.colab-df-convert');\n",
       "      buttonEl.style.display =\n",
       "        google.colab.kernel.accessAllowed ? 'block' : 'none';\n",
       "\n",
       "      async function convertToInteractive(key) {\n",
       "        const element = document.querySelector('#df-db9824bb-5c2c-4c78-836b-ab841bf17c4e');\n",
       "        const dataTable =\n",
       "          await google.colab.kernel.invokeFunction('convertToInteractive',\n",
       "                                                    [key], {});\n",
       "        if (!dataTable) return;\n",
       "\n",
       "        const docLinkHtml = 'Like what you see? Visit the ' +\n",
       "          '<a target=\"_blank\" href=https://colab.research.google.com/notebooks/data_table.ipynb>data table notebook</a>'\n",
       "          + ' to learn more about interactive tables.';\n",
       "        element.innerHTML = '';\n",
       "        dataTable['output_type'] = 'display_data';\n",
       "        await google.colab.output.renderOutput(dataTable, element);\n",
       "        const docLink = document.createElement('div');\n",
       "        docLink.innerHTML = docLinkHtml;\n",
       "        element.appendChild(docLink);\n",
       "      }\n",
       "    </script>\n",
       "  </div>\n",
       "\n",
       "\n",
       "<div id=\"df-9475d0a9-0955-4fec-9357-d2a94dcfb554\">\n",
       "  <button class=\"colab-df-quickchart\" onclick=\"quickchart('df-9475d0a9-0955-4fec-9357-d2a94dcfb554')\"\n",
       "            title=\"Suggest charts\"\n",
       "            style=\"display:none;\">\n",
       "\n",
       "<svg xmlns=\"http://www.w3.org/2000/svg\" height=\"24px\"viewBox=\"0 0 24 24\"\n",
       "     width=\"24px\">\n",
       "    <g>\n",
       "        <path d=\"M19 3H5c-1.1 0-2 .9-2 2v14c0 1.1.9 2 2 2h14c1.1 0 2-.9 2-2V5c0-1.1-.9-2-2-2zM9 17H7v-7h2v7zm4 0h-2V7h2v10zm4 0h-2v-4h2v4z\"/>\n",
       "    </g>\n",
       "</svg>\n",
       "  </button>\n",
       "\n",
       "<style>\n",
       "  .colab-df-quickchart {\n",
       "      --bg-color: #E8F0FE;\n",
       "      --fill-color: #1967D2;\n",
       "      --hover-bg-color: #E2EBFA;\n",
       "      --hover-fill-color: #174EA6;\n",
       "      --disabled-fill-color: #AAA;\n",
       "      --disabled-bg-color: #DDD;\n",
       "  }\n",
       "\n",
       "  [theme=dark] .colab-df-quickchart {\n",
       "      --bg-color: #3B4455;\n",
       "      --fill-color: #D2E3FC;\n",
       "      --hover-bg-color: #434B5C;\n",
       "      --hover-fill-color: #FFFFFF;\n",
       "      --disabled-bg-color: #3B4455;\n",
       "      --disabled-fill-color: #666;\n",
       "  }\n",
       "\n",
       "  .colab-df-quickchart {\n",
       "    background-color: var(--bg-color);\n",
       "    border: none;\n",
       "    border-radius: 50%;\n",
       "    cursor: pointer;\n",
       "    display: none;\n",
       "    fill: var(--fill-color);\n",
       "    height: 32px;\n",
       "    padding: 0;\n",
       "    width: 32px;\n",
       "  }\n",
       "\n",
       "  .colab-df-quickchart:hover {\n",
       "    background-color: var(--hover-bg-color);\n",
       "    box-shadow: 0 1px 2px rgba(60, 64, 67, 0.3), 0 1px 3px 1px rgba(60, 64, 67, 0.15);\n",
       "    fill: var(--button-hover-fill-color);\n",
       "  }\n",
       "\n",
       "  .colab-df-quickchart-complete:disabled,\n",
       "  .colab-df-quickchart-complete:disabled:hover {\n",
       "    background-color: var(--disabled-bg-color);\n",
       "    fill: var(--disabled-fill-color);\n",
       "    box-shadow: none;\n",
       "  }\n",
       "\n",
       "  .colab-df-spinner {\n",
       "    border: 2px solid var(--fill-color);\n",
       "    border-color: transparent;\n",
       "    border-bottom-color: var(--fill-color);\n",
       "    animation:\n",
       "      spin 1s steps(1) infinite;\n",
       "  }\n",
       "\n",
       "  @keyframes spin {\n",
       "    0% {\n",
       "      border-color: transparent;\n",
       "      border-bottom-color: var(--fill-color);\n",
       "      border-left-color: var(--fill-color);\n",
       "    }\n",
       "    20% {\n",
       "      border-color: transparent;\n",
       "      border-left-color: var(--fill-color);\n",
       "      border-top-color: var(--fill-color);\n",
       "    }\n",
       "    30% {\n",
       "      border-color: transparent;\n",
       "      border-left-color: var(--fill-color);\n",
       "      border-top-color: var(--fill-color);\n",
       "      border-right-color: var(--fill-color);\n",
       "    }\n",
       "    40% {\n",
       "      border-color: transparent;\n",
       "      border-right-color: var(--fill-color);\n",
       "      border-top-color: var(--fill-color);\n",
       "    }\n",
       "    60% {\n",
       "      border-color: transparent;\n",
       "      border-right-color: var(--fill-color);\n",
       "    }\n",
       "    80% {\n",
       "      border-color: transparent;\n",
       "      border-right-color: var(--fill-color);\n",
       "      border-bottom-color: var(--fill-color);\n",
       "    }\n",
       "    90% {\n",
       "      border-color: transparent;\n",
       "      border-bottom-color: var(--fill-color);\n",
       "    }\n",
       "  }\n",
       "</style>\n",
       "\n",
       "  <script>\n",
       "    async function quickchart(key) {\n",
       "      const quickchartButtonEl =\n",
       "        document.querySelector('#' + key + ' button');\n",
       "      quickchartButtonEl.disabled = true;  // To prevent multiple clicks.\n",
       "      quickchartButtonEl.classList.add('colab-df-spinner');\n",
       "      try {\n",
       "        const charts = await google.colab.kernel.invokeFunction(\n",
       "            'suggestCharts', [key], {});\n",
       "      } catch (error) {\n",
       "        console.error('Error during call to suggestCharts:', error);\n",
       "      }\n",
       "      quickchartButtonEl.classList.remove('colab-df-spinner');\n",
       "      quickchartButtonEl.classList.add('colab-df-quickchart-complete');\n",
       "    }\n",
       "    (() => {\n",
       "      let quickchartButtonEl =\n",
       "        document.querySelector('#df-9475d0a9-0955-4fec-9357-d2a94dcfb554 button');\n",
       "      quickchartButtonEl.style.display =\n",
       "        google.colab.kernel.accessAllowed ? 'block' : 'none';\n",
       "    })();\n",
       "  </script>\n",
       "</div>\n",
       "    </div>\n",
       "  </div>\n"
      ],
      "text/plain": [
       "       reviewerID        asin                reviewerName   helpful  \\\n",
       "0   ALC5GH8CAMAI7  159985130X                        AnnN    [1, 1]   \n",
       "1   AHKSURW85PJUE  159985130X         AZ buyer \"AZ buyer\"    [1, 1]   \n",
       "2   A38RMU1Y5TDP9  159985130X  Bob Tobias \"Robert Tobias\"  [75, 77]   \n",
       "3  A1XZUG7DFXXOS4  159985130X                   Cat lover  [56, 60]   \n",
       "4  A1MS3M7M7AM13X  159985130X                  Cricketoes    [1, 1]   \n",
       "\n",
       "                                          reviewText  overall  \\\n",
       "0  This is a great little gadget to have around. ...      5.0   \n",
       "1  I would recommend this for a travel magnifier ...      4.0   \n",
       "2  What I liked was the quality of the lens and t...      4.0   \n",
       "3  Love the Great point light pocket magnifier!  ...      4.0   \n",
       "4  This is very nice. You pull out on the magnifi...      5.0   \n",
       "\n",
       "                                 summary  unixReviewTime   reviewTime label  \\\n",
       "0                    Handy little gadget      1294185600   01 5, 2011     1   \n",
       "1  Small & may need to encourage battery      1329523200  02 18, 2012     1   \n",
       "2                Very good but not great      1275955200   06 8, 2010     1   \n",
       "3           great addition to your purse      1202428800   02 8, 2008     1   \n",
       "4              Very nice and convenient.      1313452800  08 16, 2011     1   \n",
       "\n",
       "  formatted_reviewTime  helpful_ratio  \n",
       "0           2011-01-05       1.000000  \n",
       "1           2012-02-18       1.000000  \n",
       "2           2010-06-08       0.974026  \n",
       "3           2008-02-08       0.933333  \n",
       "4           2011-08-16       1.000000  "
      ]
     },
     "execution_count": 16,
     "metadata": {},
     "output_type": "execute_result"
    }
   ],
   "source": [
    "# handle 'helpful'\n",
    "\n",
    "def calculate_ratio(x):\n",
    "    if x[1] == 0:  # exception when 0 appears\n",
    "        return 0\n",
    "    return x[0]/x[1]\n",
    "\n",
    "df['helpful_ratio'] = df['helpful'].apply(calculate_ratio)\n",
    "df.head(5)"
   ]
  },
  {
   "cell_type": "code",
   "execution_count": null,
   "metadata": {
    "colab": {
     "base_uri": "https://localhost:8080/",
     "height": 755
    },
    "executionInfo": {
     "elapsed": 625,
     "status": "ok",
     "timestamp": 1716581059169,
     "user": {
      "displayName": "Mrimon (Nemo) Guha",
      "userId": "17002090688478565716"
     },
     "user_tz": 420
    },
    "id": "EJI_Sk65XSa0",
    "outputId": "3c55e29f-f8bb-4f11-8b62-4199ad48119b"
   },
   "outputs": [
    {
     "name": "stderr",
     "output_type": "stream",
     "text": [
      "<ipython-input-17-b164e8a96d9b>:3: UserWarning: \n",
      "\n",
      "`distplot` is a deprecated function and will be removed in seaborn v0.14.0.\n",
      "\n",
      "Please adapt your code to use either `displot` (a figure-level function with\n",
      "similar flexibility) or `histplot` (an axes-level function for histograms).\n",
      "\n",
      "For a guide to updating your code to use the new functions, please see\n",
      "https://gist.github.com/mwaskom/de44147ed2974457ad6372750bbe5751\n",
      "\n",
      "  sns.distplot(df['helpful_ratio'], bins=10, kde=True)\n"
     ]
    },
    {
     "data": {
      "image/png": "[encoded data removed]",
      "text/plain": [
       "<Figure size 1000x600 with 1 Axes>"
      ]
     },
     "metadata": {},
     "output_type": "display_data"
    }
   ],
   "source": [
    "# the distribution of helpful_ratio\n",
    "plt.figure(figsize=(10, 6))\n",
    "sns.distplot(df['helpful_ratio'], bins=10, kde=True)\n",
    "plt.title('Distribution of Helpful Ratio')\n",
    "plt.xlabel('Helpful Ratio')\n",
    "plt.ylabel('Frequency')\n",
    "plt.show()"
   ]
  },
  {
   "cell_type": "markdown",
   "metadata": {
    "id": "1klLnMWp9EJD"
   },
   "source": [
    "**INFERENCE:** Most reviews are not considered to be helpful"
   ]
  },
  {
   "cell_type": "code",
   "execution_count": null,
   "metadata": {
    "colab": {
     "base_uri": "https://localhost:8080/",
     "height": 641
    },
    "executionInfo": {
     "elapsed": 776,
     "status": "ok",
     "timestamp": 1716581061026,
     "user": {
      "displayName": "Mrimon (Nemo) Guha",
      "userId": "17002090688478565716"
     },
     "user_tz": 420
    },
    "id": "8xh6OwdsZqJR",
    "outputId": "1646ffab-a8fa-4d80-a5a0-e17dbc7738fa"
   },
   "outputs": [
    {
     "data": {
      "image/png": "[encoded data removed]",
      "text/plain": [
       "<Figure size 1400x700 with 1 Axes>"
      ]
     },
     "metadata": {},
     "output_type": "display_data"
    }
   ],
   "source": [
    "# 2. number of reviews over time\n",
    "reviews_per_month = df.set_index('formatted_reviewTime').resample('M').size()\n",
    "rolling_reviews_per_month = reviews_per_month.rolling(window=6).mean()\n",
    "\n",
    "plt.figure(figsize=(14, 7))\n",
    "plt.plot(reviews_per_month, label='Monthly Reviews')\n",
    "plt.plot(rolling_reviews_per_month, label='6-Month Rolling Average', linewidth=2)\n",
    "plt.title('Number of Reviews Over Time')\n",
    "plt.xlabel('Date')\n",
    "plt.ylabel('Number of Reviews')\n",
    "plt.legend()\n",
    "plt.show()"
   ]
  },
  {
   "cell_type": "markdown",
   "metadata": {
    "id": "uczwqUPvh7bN"
   },
   "source": [
    "**The number of reviews have spiked suddenly after 2012 and kept increasing over the years. It reached a peak in 2014 before showing signs of a decline**"
   ]
  },
  {
   "cell_type": "code",
   "execution_count": null,
   "metadata": {
    "colab": {
     "base_uri": "https://localhost:8080/",
     "height": 916
    },
    "executionInfo": {
     "elapsed": 3710,
     "status": "ok",
     "timestamp": 1716581066270,
     "user": {
      "displayName": "Mrimon (Nemo) Guha",
      "userId": "17002090688478565716"
     },
     "user_tz": 420
    },
    "id": "eJRTDsiJZvdu",
    "outputId": "3147c92e-ff81-48c2-975b-f92528bc1cbc"
   },
   "outputs": [
    {
     "data": {
      "image/png": "[encoded data removed]",
      "text/plain": [
       "<Figure size 1400x1000 with 2 Axes>"
      ]
     },
     "metadata": {},
     "output_type": "display_data"
    }
   ],
   "source": [
    "# heatmap of reviews by Day and Month\n",
    "df['year_month'] = df['formatted_reviewTime'].dt.to_period('M')\n",
    "df['day'] = df['formatted_reviewTime'].dt.day\n",
    "\n",
    "heatmap_data = df.groupby(['day', 'year_month']).size().unstack().fillna(0)\n",
    "\n",
    "plt.figure(figsize=(14, 10))\n",
    "sns.heatmap(heatmap_data, cmap='YlGnBu', linewidths=.5)\n",
    "plt.title('Heatmap of Reviews by Day and Month')\n",
    "plt.xlabel('Month')\n",
    "plt.ylabel('Day of Month')\n",
    "plt.show()"
   ]
  },
  {
   "cell_type": "markdown",
   "metadata": {
    "id": "YnRMGAsZa3ZO"
   },
   "source": [
    "## **TEXT VECTORISATION**\n",
    "TF-IDF"
   ]
  },
  {
   "cell_type": "code",
   "execution_count": null,
   "metadata": {
    "colab": {
     "base_uri": "https://localhost:8080/"
    },
    "executionInfo": {
     "elapsed": 12271,
     "status": "ok",
     "timestamp": 1716581078538,
     "user": {
      "displayName": "Mrimon (Nemo) Guha",
      "userId": "17002090688478565716"
     },
     "user_tz": 420
    },
    "id": "MYnMpd2Ua3ZO",
    "outputId": "4b1ecf2a-c98a-4b93-8555-1c72493a433e"
   },
   "outputs": [
    {
     "name": "stdout",
     "output_type": "stream",
     "text": [
      "product      676.204747\n",
      "good         594.413688\n",
      "use          589.263403\n",
      "great        587.228673\n",
      "like         537.615510\n",
      "just         463.239224\n",
      "works        423.430025\n",
      "really       388.502269\n",
      "used         382.727774\n",
      "work         374.904420\n",
      "time         371.082648\n",
      "price        368.952708\n",
      "don          357.987767\n",
      "ve           342.679373\n",
      "day          338.914760\n",
      "better       334.170204\n",
      "using        329.526867\n",
      "does         314.571953\n",
      "years        295.834208\n",
      "buy          288.896841\n",
      "love         284.181753\n",
      "bought       283.098934\n",
      "taking       277.797887\n",
      "little       271.132669\n",
      "recommend    266.917195\n",
      "batteries    263.561753\n",
      "best         258.156378\n",
      "long         253.505800\n",
      "feel         252.352390\n",
      "need         251.589236\n",
      "did          247.819824\n",
      "easy         246.274169\n",
      "34           243.238423\n",
      "help         239.170494\n",
      "tried        237.956951\n",
      "skin         237.749636\n",
      "taste        233.512411\n",
      "clean        230.724545\n",
      "brush        225.620742\n",
      "amazon       212.314582\n",
      "dtype: float64\n"
     ]
    }
   ],
   "source": [
    "from sklearn.feature_extraction.text import TfidfVectorizer\n",
    "import pandas as pd\n",
    "\n",
    "def compute_tfidf(reviewText):\n",
    "    \"\"\"\n",
    "    Computes the TF-IDF matrix for the given list of reviews.\n",
    "\n",
    "    Parameters:\n",
    "    reviewText (list of str): A list of review texts.\n",
    "\n",
    "    Returns:\n",
    "    pd.DataFrame: A DataFrame containing the TF-IDF scores.\n",
    "    \"\"\"\n",
    "    # Initialize TfidfVectorizer\n",
    "    vectorizer = TfidfVectorizer(stop_words='english')\n",
    "\n",
    "    # Fit and transform the reviewText\n",
    "    tfidf_matrix = vectorizer.fit_transform(reviewText)\n",
    "\n",
    "    # Convert to array (optional, for easier inspection)\n",
    "    tfidf_array = tfidf_matrix.toarray()\n",
    "\n",
    "    # Get feature names (terms)\n",
    "    feature_names = vectorizer.get_feature_names_out()\n",
    "\n",
    "    # Create a DataFrame for a better overview\n",
    "    df_tfidf = pd.DataFrame(tfidf_array, columns=feature_names)\n",
    "\n",
    "    return df_tfidf\n",
    "\n",
    "\n",
    "tfidf_df = compute_tfidf(df['reviewText'])\n",
    "#Summarize the most frequent and significant terms across all reviews. This helps in understanding common themes and topics discussed by customers.\n",
    "term_sums = tfidf_df.sum().sort_values(ascending=False)\n",
    "\n",
    "# Display the top terms\n",
    "print(term_sums.head(40))"
   ]
  },
  {
   "cell_type": "markdown",
   "metadata": {
    "id": "c2cACk5SZwEZ"
   },
   "source": [
    "**INFERENCE: Words like \"great,\" \"good,\" \"like,\" \"very,\" and \"well\" have high TF-IDF scores, indicating that these terms are frequently used in your reviews and are significant. This suggests that these reviews contain positive sentiments. Additionally, Batteries seemed to be an important aspect of the reviews too**"
   ]
  },
  {
   "cell_type": "markdown",
   "metadata": {
    "id": "EsTA3RKGa3ZP"
   },
   "source": [
    "Bag of Words"
   ]
  },
  {
   "cell_type": "code",
   "execution_count": null,
   "metadata": {
    "colab": {
     "base_uri": "https://localhost:8080/"
    },
    "executionInfo": {
     "elapsed": 6087,
     "status": "ok",
     "timestamp": 1716581084609,
     "user": {
      "displayName": "Mrimon (Nemo) Guha",
      "userId": "17002090688478565716"
     },
     "user_tz": 420
    },
    "id": "Pi5SbWgLa3ZP",
    "outputId": "36a8000b-fc85-4926-b703-e609b3e360cf"
   },
   "outputs": [
    {
     "name": "stdout",
     "output_type": "stream",
     "text": [
      "product      9233\n",
      "use          9062\n",
      "like         8367\n",
      "just         7286\n",
      "good         7214\n",
      "great        6447\n",
      "used         5056\n",
      "time         5054\n",
      "don          4912\n",
      "ve           4691\n",
      "really       4659\n",
      "day          4639\n",
      "using        4242\n",
      "work         4144\n",
      "works        4062\n",
      "better       3972\n",
      "does         3631\n",
      "years        3586\n",
      "price        3394\n",
      "little       3233\n",
      "taking       3155\n",
      "did          2997\n",
      "bought       2892\n",
      "need         2835\n",
      "tried        2779\n",
      "feel         2732\n",
      "long         2730\n",
      "buy          2632\n",
      "best         2623\n",
      "recommend    2602\n",
      "skin         2586\n",
      "way          2480\n",
      "water        2457\n",
      "try          2417\n",
      "help         2412\n",
      "clean        2403\n",
      "amazon       2382\n",
      "know         2334\n",
      "love         2315\n",
      "make         2279\n",
      "dtype: int64\n"
     ]
    }
   ],
   "source": [
    "from sklearn.feature_extraction.text import CountVectorizer\n",
    "import pandas as pd\n",
    "\n",
    "def compute_bag_of_words(reviewText):\n",
    "    \"\"\"\n",
    "    Computes the Bag of Words (BoW) matrix for the given list of reviews.\n",
    "\n",
    "    Parameters:\n",
    "    reviewText (list of str): A list of review texts.\n",
    "\n",
    "    Returns:\n",
    "    pd.DataFrame: A DataFrame containing the BoW counts.\n",
    "    \"\"\"\n",
    "    # Initialize CountVectorizer\n",
    "    vectorizer = CountVectorizer(stop_words='english')\n",
    "\n",
    "    # Fit and transform the reviewText\n",
    "    bow_matrix = vectorizer.fit_transform(reviewText)\n",
    "\n",
    "    # Convert to array (optional, for easier inspection)\n",
    "    bow_array = bow_matrix.toarray()\n",
    "\n",
    "    # Get feature names (terms)\n",
    "    feature_names = vectorizer.get_feature_names_out()\n",
    "\n",
    "    # Create a DataFrame for a better overview\n",
    "    df_bow = pd.DataFrame(bow_array, columns=feature_names)\n",
    "\n",
    "    return df_bow\n",
    "\n",
    "bow_df = compute_bag_of_words(df['reviewText'])\n",
    "\n",
    "term_counts = bow_df.sum().sort_values(ascending=False)\n",
    "print(term_counts.head(40))"
   ]
  },
  {
   "cell_type": "markdown",
   "metadata": {
    "id": "8FtGHKlPiFA-"
   },
   "source": [
    "Use, good, great, price are some of the key words used in product reviews"
   ]
  },
  {
   "cell_type": "markdown",
   "metadata": {
    "id": "PUKk3LJZa3ZP"
   },
   "source": [
    "N-Grams (bigrams)"
   ]
  },
  {
   "cell_type": "code",
   "execution_count": null,
   "metadata": {
    "colab": {
     "base_uri": "https://localhost:8080/"
    },
    "executionInfo": {
     "elapsed": 44710,
     "status": "ok",
     "timestamp": 1716581129303,
     "user": {
      "displayName": "Mrimon (Nemo) Guha",
      "userId": "17002090688478565716"
     },
     "user_tz": 420
    },
    "id": "brk_ehtNa3ZQ",
    "outputId": "d49c5716-7961-4e67-c0c7-0a5c3c819cfc"
   },
   "outputs": [
    {
     "name": "stdout",
     "output_type": "stream",
     "text": [
      "       00 00  00 000  00 10  00 100  00 12  00 15  00 2009  00 28  00 30  \\\n",
      "0          0       0      0       0      0      0        0      0      0   \n",
      "1          0       0      0       0      0      0        0      0      0   \n",
      "2          0       0      0       0      0      0        0      0      0   \n",
      "3          0       0      0       0      0      0        0      0      0   \n",
      "4          0       0      0       0      0      0        0      0      0   \n",
      "...      ...     ...    ...     ...    ...    ...      ...    ...    ...   \n",
      "25939      0       0      0       0      0      0        0      0      0   \n",
      "25940      0       0      0       0      0      0        0      0      0   \n",
      "25941      0       0      0       0      0      0        0      0      0   \n",
      "25942      0       0      0       0      0      0        0      0      0   \n",
      "25943      0       0      0       0      0      0        0      0      0   \n",
      "\n",
      "       00 300  ...  zyrtec night  zyrtec particular  zyrtec stopped  \\\n",
      "0           0  ...             0                  0               0   \n",
      "1           0  ...             0                  0               0   \n",
      "2           0  ...             0                  0               0   \n",
      "3           0  ...             0                  0               0   \n",
      "4           0  ...             0                  0               0   \n",
      "...       ...  ...           ...                ...             ...   \n",
      "25939       0  ...             0                  0               0   \n",
      "25940       0  ...             0                  0               0   \n",
      "25941       0  ...             0                  0               0   \n",
      "25942       0  ...             0                  0               0   \n",
      "25943       0  ...             0                  0               0   \n",
      "\n",
      "       zyrtec wanted  zyrtec work  zyrtec worked  zyrtec works  zzhp1427 14  \\\n",
      "0                  0            0              0             0            0   \n",
      "1                  0            0              0             0            0   \n",
      "2                  0            0              0             0            0   \n",
      "3                  0            0              0             0            0   \n",
      "4                  0            0              0             0            0   \n",
      "...              ...          ...            ...           ...          ...   \n",
      "25939              0            0              0             0            0   \n",
      "25940              0            0              0             0            0   \n",
      "25941              0            0              0             0            0   \n",
      "25942              0            0              0             0            0   \n",
      "25943              0            0              0             0            0   \n",
      "\n",
      "       zzzz airborne  zzzzzzzz pretty  \n",
      "0                  0                0  \n",
      "1                  0                0  \n",
      "2                  0                0  \n",
      "3                  0                0  \n",
      "4                  0                0  \n",
      "...              ...              ...  \n",
      "25939              0                0  \n",
      "25940              0                0  \n",
      "25941              0                0  \n",
      "25942              0                0  \n",
      "25943              0                0  \n",
      "\n",
      "[25944 rows x 575026 columns]\n",
      "highly recommend     774\n",
      "ve used              668\n",
      "works great          637\n",
      "long time            584\n",
      "great product        562\n",
      "ve tried             558\n",
      "don know             539\n",
      "years ago            469\n",
      "easy use             451\n",
      "make sure            418\n",
      "good product         390\n",
      "ve using             365\n",
      "feel like            356\n",
      "good price           329\n",
      "recommend product    323\n",
      "great price          315\n",
      "using product        312\n",
      "brush heads          311\n",
      "started taking       309\n",
      "really like          308\n",
      "dtype: int64\n"
     ]
    }
   ],
   "source": [
    "from sklearn.feature_extraction.text import CountVectorizer\n",
    "import pandas as pd\n",
    "from sklearn.feature_extraction.text import ENGLISH_STOP_WORDS\n",
    "\n",
    "def compute_ngrams(reviewText, ngram_range=(2, 2)):\n",
    "    \"\"\"\n",
    "    Computes the n-gram matrix for the given list of reviews.\n",
    "\n",
    "    Parameters:\n",
    "    reviewText (list of str): A list of review texts.\n",
    "    ngram_range (tuple): The lower and upper boundary of the range of n-values for different n-grams to be extracted.\n",
    "\n",
    "    Returns:\n",
    "    pd.DataFrame: A DataFrame containing the n-gram counts.\n",
    "    \"\"\"\n",
    "    stopwords_list = list(ENGLISH_STOP_WORDS)\n",
    "\n",
    "    # Initialize CountVectorizer with ngram_range and stopwords removal\n",
    "    vectorizer = CountVectorizer(ngram_range=ngram_range, stop_words=stopwords_list)\n",
    "    # Fit and transform the reviewText\n",
    "    ngram_matrix = vectorizer.fit_transform(reviewText)\n",
    "\n",
    "    # Convert to array (optional, for easier inspection)\n",
    "    ngram_array = ngram_matrix.toarray()\n",
    "\n",
    "    # Get feature names (terms)\n",
    "    feature_names = vectorizer.get_feature_names_out()\n",
    "\n",
    "    # Create a DataFrame for a better overview\n",
    "    df_ngrams = pd.DataFrame(ngram_array, columns=feature_names)\n",
    "\n",
    "    return df_ngrams\n",
    "\n",
    "ngrams_df = compute_ngrams(df['reviewText'], ngram_range=(2, 2))\n",
    "\n",
    "# Display the n-grams DataFrame\n",
    "print(ngrams_df)\n",
    "\n",
    "# Sum the counts of each n-gram to get total counts for each word\n",
    "word_counts = ngrams_df.sum(axis=0)\n",
    "\n",
    "# Sort the word counts in descending order to find the most frequent words\n",
    "most_frequent_words = word_counts.sort_values(ascending=False)\n",
    "\n",
    "print(most_frequent_words.head(20))"
   ]
  },
  {
   "cell_type": "markdown",
   "metadata": {
    "id": "g2NFwl6ya3ZQ"
   },
   "source": [
    "## Classification Algorithms\n",
    "1. We perform feature extaction methods include BoW, TF IDF, and bigrams\n",
    "2. Then train 3 types of models: logistic regression, random forest, svc\n",
    "3. Evaluate each model performance"
   ]
  },
  {
   "cell_type": "markdown",
   "metadata": {
    "id": "_qj2P9BUc3nb"
   },
   "source": [
    "### **LOGISTIC REGRESSION**"
   ]
  },
  {
   "cell_type": "code",
   "execution_count": null,
   "metadata": {
    "colab": {
     "base_uri": "https://localhost:8080/"
    },
    "executionInfo": {
     "elapsed": 179,
     "status": "ok",
     "timestamp": 1716581129480,
     "user": {
      "displayName": "Mrimon (Nemo) Guha",
      "userId": "17002090688478565716"
     },
     "user_tz": 420
    },
    "id": "u5e2H6FYa3ZQ",
    "outputId": "74193590-a967-42c7-f645-b42de18a23c1"
   },
   "outputs": [
    {
     "name": "stdout",
     "output_type": "stream",
     "text": [
      "Unique labels: {0, 1}\n",
      "Splitting data...\n",
      "Data split completed.\n"
     ]
    }
   ],
   "source": [
    "import pandas as pd\n",
    "from sklearn.feature_extraction.text import TfidfVectorizer, CountVectorizer\n",
    "from sklearn.pipeline import FeatureUnion, Pipeline\n",
    "from sklearn.linear_model import LogisticRegression\n",
    "from xgboost import XGBClassifier\n",
    "from sklearn.ensemble import RandomForestClassifier\n",
    "from sklearn.model_selection import train_test_split, GridSearchCV\n",
    "from sklearn.metrics import accuracy_score, classification_report, confusion_matrix, roc_auc_score\n",
    "from sklearn.preprocessing import LabelEncoder\n",
    "import time\n",
    "\n",
    "# Ensure df is defined with 'reviewText' and 'label' columns\n",
    "if 'reviewText' not in df.columns or 'label' not in df.columns:\n",
    "    raise KeyError(\"DataFrame must contain 'reviewText' and 'label' columns.\")\n",
    "\n",
    "# Extract review texts and labels\n",
    "reviewText = df['reviewText'].tolist()\n",
    "labels = df['label'].tolist()\n",
    "\n",
    "# Encode labels to ensure they are integers\n",
    "label_encoder = LabelEncoder()\n",
    "labels = label_encoder.fit_transform(labels)\n",
    "\n",
    "# Debug: Print unique labels\n",
    "print(f\"Unique labels: {set(labels)}\")\n",
    "\n",
    "# Define feature extraction methods\n",
    "tfidf = ('tfidf', TfidfVectorizer())\n",
    "bow = ('bow', CountVectorizer())\n",
    "ngrams = ('ngrams', CountVectorizer(ngram_range=(1, 2)))\n",
    "\n",
    "# Combine feature extraction methods\n",
    "combined_features = FeatureUnion([tfidf, bow, ngrams])\n",
    "\n",
    "# Function to create a pipeline and train a model\n",
    "def train_and_evaluate_model(model, X_train, X_test, y_train, y_test, eval_set=None):\n",
    "    start_time = time.time()\n",
    "    print(f\"Training {model.__class__.__name__}...\")\n",
    "\n",
    "    if isinstance(model, XGBClassifier) and eval_set is not None:\n",
    "        # Create a pipeline for feature extraction\n",
    "        feature_pipeline = Pipeline([('features', combined_features)])\n",
    "        X_train_transformed = feature_pipeline.fit_transform(X_train)\n",
    "        X_test_transformed = feature_pipeline.transform(X_test)\n",
    "        X_val_transformed = feature_pipeline.transform(eval_set[0][0])\n",
    "\n",
    "        eval_set_transformed = [(X_val_transformed, eval_set[0][1])]\n",
    "\n",
    "        model.set_params(early_stopping_rounds=10, num_class=len(set(y_train)))\n",
    "        model.fit(X_train_transformed, y_train, eval_set=eval_set_transformed)\n",
    "\n",
    "        y_pred = model.predict(X_test_transformed)\n",
    "    else:\n",
    "        pipeline = Pipeline([\n",
    "            ('features', combined_features),\n",
    "            ('classifier', model)\n",
    "        ])\n",
    "\n",
    "        # Fit the model\n",
    "        print(f\"Fitting {model.__class__.__name__}...\")\n",
    "        pipeline.fit(X_train, y_train)\n",
    "\n",
    "        # Make predictions\n",
    "        print(f\"Predicting with {model.__class__.__name__}...\")\n",
    "        y_pred = pipeline.predict(X_test)\n",
    "\n",
    "    # Evaluate the model\n",
    "    accuracy = accuracy_score(y_test, y_pred)\n",
    "    auc = roc_auc_score(y_test, y_pred, multi_class='ovr')\n",
    "    print(f\"Model: {model.__class__.__name__}\")\n",
    "    print(f\"Accuracy: {accuracy:.2f}\")\n",
    "    print(f\"AUC: {auc:.2f}\")\n",
    "    print(\"\\nClassification Report:\")\n",
    "    print(classification_report(y_test, y_pred))\n",
    "    print(\"\\nConfusion Matrix:\")\n",
    "    print(confusion_matrix(y_test, y_pred))\n",
    "    print(\"\\n\" + \"=\"*60 + \"\\n\")\n",
    "\n",
    "\n",
    "    # Calculate confusion matrix\n",
    "    conf_matrix = confusion_matrix(y_test, y_pred)\n",
    "\n",
    "    # Plot confusion matrix\n",
    "    plt.figure(figsize=(8, 6))\n",
    "    sns.heatmap(conf_matrix, annot=True, fmt=\"d\", cmap=\"Blues\", cbar=False)\n",
    "    plt.xlabel(\"Predicted labels\")\n",
    "    plt.ylabel(\"True labels\")\n",
    "    plt.title(\"Confusion Matrix for the Model\")\n",
    "    plt.show()\n",
    "\n",
    "    end_time = time.time()\n",
    "    print(f\"Completed {model.__class__.__name__} in {(end_time - start_time)/60:.2f} minutes.\\n\")\n",
    "\n",
    "# Split the data into training and testing sets with stratification\n",
    "print(\"Splitting data...\")\n",
    "X_train, X_test, y_train, y_test = train_test_split(reviewText, labels, test_size=0.25, random_state=42, stratify=labels)\n",
    "print(\"Data split completed.\")\n",
    "\n",
    "# Further split the training data to create a validation set for XGBoost\n",
    "X_train, X_val, y_train, y_val = train_test_split(X_train, y_train, test_size=0.2, random_state=42, stratify=y_train)\n"
   ]
  },
  {
   "cell_type": "code",
   "execution_count": null,
   "metadata": {
    "colab": {
     "base_uri": "https://localhost:8080/",
     "height": 1000
    },
    "executionInfo": {
     "elapsed": 91634,
     "status": "ok",
     "timestamp": 1716581957499,
     "user": {
      "displayName": "Mrimon (Nemo) Guha",
      "userId": "17002090688478565716"
     },
     "user_tz": 420
    },
    "id": "U1vDfgHpFItl",
    "outputId": "dc1018a9-eede-4fc7-9a51-1ff6c027a7c8"
   },
   "outputs": [
    {
     "name": "stdout",
     "output_type": "stream",
     "text": [
      "Training LogisticRegression...\n",
      "Fitting LogisticRegression...\n",
      "Predicting with LogisticRegression...\n",
      "Model: LogisticRegression\n",
      "Accuracy: 0.87\n",
      "AUC: 0.73\n",
      "\n",
      "Classification Report:\n",
      "              precision    recall  f1-score   support\n",
      "\n",
      "           0       0.69      0.50      0.58      1192\n",
      "           1       0.89      0.95      0.92      5294\n",
      "\n",
      "    accuracy                           0.87      6486\n",
      "   macro avg       0.79      0.73      0.75      6486\n",
      "weighted avg       0.86      0.87      0.86      6486\n",
      "\n",
      "\n",
      "Confusion Matrix:\n",
      "[[ 599  593]\n",
      " [ 266 5028]]\n",
      "\n",
      "============================================================\n",
      "\n"
     ]
    },
    {
     "data": {
      "image/png": "[encoded data removed]",
      "text/plain": [
       "<Figure size 800x600 with 1 Axes>"
      ]
     },
     "metadata": {},
     "output_type": "display_data"
    },
    {
     "name": "stdout",
     "output_type": "stream",
     "text": [
      "Completed LogisticRegression in 1.52 minutes.\n",
      "\n"
     ]
    }
   ],
   "source": [
    "# Logistic Regression\n",
    "logistic_regression_model = LogisticRegression(max_iter=1000)  # Increase max_iter for convergence\n",
    "train_and_evaluate_model(logistic_regression_model, X_train, X_test, y_train, y_test)\n"
   ]
  },
  {
   "cell_type": "markdown",
   "metadata": {
    "id": "B9cCHAml5jiU"
   },
   "source": [
    "**Accuracy**: The accuracy of the model is 85%, meaning it correctly predicts sentiment in 85% of cases.\n",
    "\n",
    "**AUC**: The Area Under the ROC Curve (AUC) is 0.67, indicating moderate predictive performance.\n",
    "\n",
    "The model shows high precision (0.88) but lower recall (0.95) for positive sentiment (class 1). This means it accurately identifies positives but may miss some instances. Consider balancing precision and recall based on the cost of false positives versus false negatives\n",
    "\n",
    "**Confusion Matrix**: Shows the counts of true positive, false positive, true negative, and false negative predictions. The model correctly predicts a majority of positive sentiment (1) instances but has more difficulty with negative sentiment (0) instances.\n",
    "\n",
    "\n",
    "Overall, the model performs well in predicting positive sentiment but has room for improvement in predicting negative sentiment\n"
   ]
  },
  {
   "cell_type": "markdown",
   "metadata": {
    "id": "0WRFv7ROczfo"
   },
   "source": [
    "### **RANDOM FOREST**"
   ]
  },
  {
   "cell_type": "code",
   "execution_count": null,
   "metadata": {
    "colab": {
     "base_uri": "https://localhost:8080/",
     "height": 1000
    },
    "executionInfo": {
     "elapsed": 303501,
     "status": "ok",
     "timestamp": 1716583623486,
     "user": {
      "displayName": "Mrimon (Nemo) Guha",
      "userId": "17002090688478565716"
     },
     "user_tz": 420
    },
    "id": "OIR4ZSoKFNoq",
    "outputId": "f82629f4-8960-4dde-8609-306af91afb2f"
   },
   "outputs": [
    {
     "name": "stdout",
     "output_type": "stream",
     "text": [
      "Performing grid search for RandomForestClassifier...\n",
      "Fitting 3 folds for each of 16 candidates, totalling 48 fits\n",
      "Best hyperparameters for RandomForestClassifier: {'classifier__max_depth': None, 'classifier__max_features': 'sqrt', 'classifier__min_samples_split': 2, 'classifier__n_estimators': 50}\n",
      "Training RandomForestClassifier...\n",
      "Fitting RandomForestClassifier...\n",
      "Predicting with RandomForestClassifier...\n",
      "Model: RandomForestClassifier\n",
      "Accuracy: 0.82\n",
      "AUC: 0.52\n",
      "\n",
      "Classification Report:\n",
      "              precision    recall  f1-score   support\n",
      "\n",
      "           0       0.94      0.04      0.08      1192\n",
      "           1       0.82      1.00      0.90      5294\n",
      "\n",
      "    accuracy                           0.82      6486\n",
      "   macro avg       0.88      0.52      0.49      6486\n",
      "weighted avg       0.84      0.82      0.75      6486\n",
      "\n",
      "\n",
      "Confusion Matrix:\n",
      "[[  50 1142]\n",
      " [   3 5291]]\n",
      "\n",
      "============================================================\n",
      "\n"
     ]
    },
    {
     "data": {
      "image/png": "[encoded data removed]",
      "text/plain": [
       "<Figure size 800x600 with 1 Axes>"
      ]
     },
     "metadata": {},
     "output_type": "display_data"
    },
    {
     "name": "stdout",
     "output_type": "stream",
     "text": [
      "Completed RandomForestClassifier in 1.16 minutes.\n",
      "\n"
     ]
    }
   ],
   "source": [
    "# Random Forest with Grid Search\n",
    "param_grid = {\n",
    "    'classifier__n_estimators': [50, 100],  # Reduced range for faster testing\n",
    "    'classifier__max_depth': [10, None],    # Reduced range for faster testing\n",
    "    'classifier__max_features': ['auto', 'sqrt'],\n",
    "    'classifier__min_samples_split': [2, 5]\n",
    "}\n",
    "\n",
    "grid_search = GridSearchCV(\n",
    "    Pipeline([\n",
    "        ('features', combined_features),\n",
    "        ('classifier', RandomForestClassifier())\n",
    "    ]),\n",
    "    param_grid,\n",
    "    cv=3,  # Reduced number of folds for faster testing\n",
    "    scoring='accuracy',\n",
    "    n_jobs=-1,\n",
    "    verbose=2  # Add verbosity for tracking progress\n",
    ")\n",
    "\n",
    "print(\"Performing grid search for RandomForestClassifier...\")\n",
    "grid_search.fit(X_train, y_train)\n",
    "best_rf_model = grid_search.best_estimator_\n",
    "print(f\"Best hyperparameters for RandomForestClassifier: {grid_search.best_params_}\")\n",
    "train_and_evaluate_model(best_rf_model.named_steps['classifier'], X_train, X_test, y_train, y_test)\n"
   ]
  },
  {
   "cell_type": "markdown",
   "metadata": {
    "id": "BPFdnCeV5aKV"
   },
   "source": [
    "**Accuracy**: The model achieved an accuracy of 83%, indicating it correctly predicts sentiment in 83% of cases.\n",
    "\n",
    "**AUC**: The Area Under the ROC Curve (AUC) is 0.50, which suggests the model's predictive performance is no better than random chance.\n",
    "The model has a precision of 0.83 and recall of 1.00 for class 1 (positive sentiment), indicating high precision but possibly overfitting or an imbalanced dataset. This high recall suggests it captures all positive instances but at the cost of potentially higher false positives. Consider evaluating model performance with a balanced dataset or adjusting the model to avoid overfitting\n",
    "\n",
    "**Confusion Matrix**: Shows the counts of true positive, false positive, true negative, and false negative predictions. The model correctly predicts a majority of positive sentiment (1) instances but performs poorly in identifying negative sentiment (0) instances\n",
    "\n",
    "\n",
    "In summary, while the model performs well in predicting positive sentiment, its performance in identifying negative sentiment is subpar, as evidenced by the low recall and precision values for class 0.\n"
   ]
  },
  {
   "cell_type": "markdown",
   "metadata": {
    "id": "2xjj1_U2cu1c"
   },
   "source": [
    "### **SVC CLASSIFICATION**"
   ]
  },
  {
   "cell_type": "code",
   "execution_count": null,
   "metadata": {
    "colab": {
     "base_uri": "https://localhost:8080/",
     "height": 1000
    },
    "executionInfo": {
     "elapsed": 89324,
     "status": "ok",
     "timestamp": 1716543438733,
     "user": {
      "displayName": "Mrimon (Nemo) Guha",
      "userId": "17002090688478565716"
     },
     "user_tz": 420
    },
    "id": "IOLG0OG4I-WE",
    "outputId": "fe8c3806-d264-4556-80c4-52eb368d2fdc"
   },
   "outputs": [
    {
     "name": "stdout",
     "output_type": "stream",
     "text": [
      "Training SVC...\n",
      "Fitting SVC...\n",
      "Predicting with SVC...\n",
      "Model: SVC\n",
      "Accuracy: 0.83\n",
      "AUC: 0.50\n",
      "\n",
      "Classification Report:\n",
      "              precision    recall  f1-score   support\n",
      "\n",
      "           0       0.00      0.00      0.00       204\n",
      "           1       0.83      1.00      0.91      1008\n",
      "\n",
      "    accuracy                           0.83      1212\n",
      "   macro avg       0.42      0.50      0.45      1212\n",
      "weighted avg       0.69      0.83      0.76      1212\n",
      "\n",
      "\n",
      "Confusion Matrix:\n",
      "[[   0  204]\n",
      " [   0 1008]]\n",
      "\n",
      "============================================================\n",
      "\n"
     ]
    },
    {
     "name": "stderr",
     "output_type": "stream",
     "text": [
      "/usr/local/lib/python3.10/dist-packages/sklearn/metrics/_classification.py:1344: UndefinedMetricWarning: Precision and F-score are ill-defined and being set to 0.0 in labels with no predicted samples. Use `zero_division` parameter to control this behavior.\n",
      "  _warn_prf(average, modifier, msg_start, len(result))\n",
      "/usr/local/lib/python3.10/dist-packages/sklearn/metrics/_classification.py:1344: UndefinedMetricWarning: Precision and F-score are ill-defined and being set to 0.0 in labels with no predicted samples. Use `zero_division` parameter to control this behavior.\n",
      "  _warn_prf(average, modifier, msg_start, len(result))\n",
      "/usr/local/lib/python3.10/dist-packages/sklearn/metrics/_classification.py:1344: UndefinedMetricWarning: Precision and F-score are ill-defined and being set to 0.0 in labels with no predicted samples. Use `zero_division` parameter to control this behavior.\n",
      "  _warn_prf(average, modifier, msg_start, len(result))\n"
     ]
    },
    {
     "data": {
      "image/png": "[encoded data removed]",
      "text/plain": [
       "<Figure size 800x600 with 1 Axes>"
      ]
     },
     "metadata": {},
     "output_type": "display_data"
    },
    {
     "name": "stdout",
     "output_type": "stream",
     "text": [
      "Completed SVC in 1.49 minutes.\n",
      "\n"
     ]
    }
   ],
   "source": [
    "from sklearn.svm import SVC\n",
    "\n",
    "# Train and evaluate SVM\n",
    "svm_model = SVC(probability=True)\n",
    "train_and_evaluate_model(svm_model, X_train, X_test, y_train, y_test)\n"
   ]
  },
  {
   "cell_type": "markdown",
   "metadata": {
    "id": "7w7WnYdS5KDD"
   },
   "source": [
    "**Accuracy**: The model achieved an accuracy of 83%, indicating it correctly predicts sentiment in 83% of cases.\n",
    "\n",
    "**AUC**: The Area Under the ROC Curve (AUC) is 0.50, which suggests the model's predictive performance is no better than random chance.\n",
    "The SVC model shows a precision of 0.83 and recall of 1.00 for class 1 (positive sentiment), indicating high precision but potential overfitting or an imbalanced dataset. The extremely low recall for class 0 (negative sentiment) suggests the model struggles to identify negative instances, resulting in a high false negative rate. Consider evaluating model performance with a balanced dataset or adjusting the model to improve performance on negative sentiment\n",
    "\n",
    "**Confusion Matrix**: Shows the counts of true positive, false positive, true negative, and false negative predictions. The model correctly predicts a majority of positive sentiment (1) instances but fails to identify negative sentiment (0) instances effectively, as indicated by the high false negative count and low recall for class 0.\n",
    "\n",
    "In summary, while the model performs well in predicting positive sentiment, its performance in identifying negative sentiment is extremely poor, as evidenced by the low recall and precision values for class 0.\n"
   ]
  },
  {
   "cell_type": "markdown",
   "metadata": {
    "id": "JwICT-vOKpMP"
   },
   "source": [
    "**Logistic regression outperforms all other models with the highest accuracy of 85%.**"
   ]
  },
  {
   "cell_type": "markdown",
   "metadata": {
    "id": "B7DYWLHx910m"
   },
   "source": [
    "## **Saving the modified dataset**"
   ]
  },
  {
   "cell_type": "code",
   "execution_count": null,
   "metadata": {
    "colab": {
     "base_uri": "https://localhost:8080/"
    },
    "executionInfo": {
     "elapsed": 354,
     "status": "ok",
     "timestamp": 1716585240852,
     "user": {
      "displayName": "Mrimon (Nemo) Guha",
      "userId": "17002090688478565716"
     },
     "user_tz": 420
    },
    "id": "84T7ITJzP8l9",
    "outputId": "bbff808b-cae7-454c-dcb6-1aa35801c107"
   },
   "outputs": [
    {
     "name": "stdout",
     "output_type": "stream",
     "text": [
      "<class 'pandas.core.frame.DataFrame'>\n",
      "RangeIndex: 25944 entries, 0 to 25943\n",
      "Data columns (total 14 columns):\n",
      " #   Column                Non-Null Count  Dtype         \n",
      "---  ------                --------------  -----         \n",
      " 0   reviewerID            25944 non-null  object        \n",
      " 1   asin                  25944 non-null  object        \n",
      " 2   reviewerName          25774 non-null  object        \n",
      " 3   helpful               25944 non-null  object        \n",
      " 4   reviewText            25944 non-null  object        \n",
      " 5   overall               25944 non-null  float64       \n",
      " 6   summary               25944 non-null  object        \n",
      " 7   unixReviewTime        25944 non-null  int64         \n",
      " 8   reviewTime            25944 non-null  object        \n",
      " 9   label                 25944 non-null  object        \n",
      " 10  formatted_reviewTime  25944 non-null  datetime64[ns]\n",
      " 11  helpful_ratio         25944 non-null  float64       \n",
      " 12  year_month            25944 non-null  period[M]     \n",
      " 13  day                   25944 non-null  int32         \n",
      "dtypes: datetime64[ns](1), float64(2), int32(1), int64(1), object(8), period[M](1)\n",
      "memory usage: 2.7+ MB\n"
     ]
    }
   ],
   "source": [
    "df.info()"
   ]
  },
  {
   "cell_type": "code",
   "execution_count": null,
   "metadata": {
    "colab": {
     "base_uri": "https://localhost:8080/"
    },
    "executionInfo": {
     "elapsed": 143,
     "status": "ok",
     "timestamp": 1716585242439,
     "user": {
      "displayName": "Mrimon (Nemo) Guha",
      "userId": "17002090688478565716"
     },
     "user_tz": 420
    },
    "id": "1bsE9pGhQYzr",
    "outputId": "36be3fba-518d-40af-dd0d-803b91d684db"
   },
   "outputs": [
    {
     "data": {
      "text/plain": [
       "reviewerID                0\n",
       "asin                      0\n",
       "reviewerName            170\n",
       "helpful                   0\n",
       "reviewText                0\n",
       "overall                   0\n",
       "summary                   0\n",
       "unixReviewTime            0\n",
       "reviewTime                0\n",
       "label                     0\n",
       "formatted_reviewTime      0\n",
       "helpful_ratio             0\n",
       "year_month                0\n",
       "day                       0\n",
       "dtype: int64"
      ]
     },
     "execution_count": 37,
     "metadata": {},
     "output_type": "execute_result"
    }
   ],
   "source": [
    "# see how many nulls\n",
    "df.isnull().sum()"
   ]
  },
  {
   "cell_type": "code",
   "execution_count": null,
   "metadata": {
    "id": "t4wZGdR4RGqz"
   },
   "outputs": [],
   "source": [
    "# handle nulls in reviewerName\n",
    "df['reviewerName'].fillna('NA', inplace=True)"
   ]
  },
  {
   "cell_type": "code",
   "execution_count": null,
   "metadata": {
    "id": "On1JIA1DRsRN"
   },
   "outputs": [],
   "source": [
    "df2 = df.copy()"
   ]
  },
  {
   "cell_type": "code",
   "execution_count": null,
   "metadata": {
    "id": "fsWP5E7bR26D"
   },
   "outputs": [],
   "source": [
    "# handle 'helpful'\n",
    "\n",
    "def calculate_ratio(x):\n",
    "    if x[1] == 0:  # exception when 0 appears\n",
    "        return 0\n",
    "    return x[0]/x[1]\n",
    "\n",
    "df2['helpful_ratio'] = df2['helpful'].apply(calculate_ratio)\n",
    "df2.head(5)"
   ]
  },
  {
   "cell_type": "code",
   "execution_count": null,
   "metadata": {
    "id": "MdNQd9YIS8Pe"
   },
   "outputs": [],
   "source": [
    "# handle 'reviewTime'\n",
    "\n",
    "df2['formatted_reviewTime'] = pd.to_datetime(df2['reviewTime'], format='%m %d, %Y')\n",
    "df2['formatted_reviewTime'] = df2['formatted_reviewTime'].dt.strftime('%Y-%m-%d')\n",
    "\n",
    "df2.head(5)"
   ]
  },
  {
   "cell_type": "code",
   "execution_count": null,
   "metadata": {
    "id": "DY84r1B4Tgk-"
   },
   "outputs": [],
   "source": [
    "# write the data to a csv file\n",
    "df2.to_csv('Amazon_Healthcare_Cleaned.csv', index=False, encoding='utf-8')"
   ]
  }
 ],
 "metadata": {
  "colab": {
   "provenance": []
  },
  "kernelspec": {
   "display_name": "Python 3 (ipykernel)",
   "language": "python",
   "name": "python3"
  },
  "language_info": {
   "codemirror_mode": {
    "name": "ipython",
    "version": 3
   },
   "file_extension": ".py",
   "mimetype": "text/x-python",
   "name": "python",
   "nbconvert_exporter": "python",
   "pygments_lexer": "ipython3",
   "version": "3.11.4"
  }
 },
 "nbformat": 4,
 "nbformat_minor": 1
}
